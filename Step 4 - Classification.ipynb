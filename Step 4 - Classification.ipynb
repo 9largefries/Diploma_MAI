{
 "cells": [
  {
   "cell_type": "markdown",
   "metadata": {},
   "source": [
    "## Классификация RUL (Deep Learning)\n",
    "\n",
    "DONE:\n",
    "- LSTM\n",
    "- CNN \n",
    "    - реккурентные графики\n",
    "    - Gramian Angular Fields\n",
    "    "
   ]
  },
  {
   "cell_type": "markdown",
   "metadata": {},
   "source": [
    "#### Импорт библиотек"
   ]
  },
  {
   "cell_type": "code",
   "execution_count": 8,
   "metadata": {},
   "outputs": [],
   "source": [
    "import pandas as pd\n",
    "import numpy as np\n",
    "import math\n",
    "import matplotlib.pyplot as plt\n",
    "from matplotlib import gridspec\n",
    "from PIL import Image\n",
    "import itertools\n",
    "from time import time\n",
    "\n",
    "from sklearn.preprocessing import StandardScaler\n",
    "from scipy.spatial.distance import pdist, squareform\n",
    "from sklearn.metrics import confusion_matrix, classification_report\n",
    "from sklearn.base import BaseEstimator, TransformerMixin\n",
    "from sklearn.utils.validation import check_array\n",
    "\n",
    "from tensorflow import GradientTape\n",
    "from tensorflow.keras.models import *\n",
    "from tensorflow.keras.layers import *\n",
    "from tensorflow.keras.optimizers import SGD\n",
    "from tensorflow.keras.optimizers import Adam\n",
    "from tensorflow.keras.callbacks import ReduceLROnPlateau, EarlyStopping\n",
    "from tensorflow.keras.regularizers import l2\n",
    "from tensorflow.keras.utils import to_categorical\n",
    "from tensorflow.keras.callbacks import ModelCheckpoint\n",
    "from tensorflow.keras import backend as K\n",
    "\n",
    "import warnings\n",
    "warnings.filterwarnings(\"ignore\")"
   ]
  },
  {
   "cell_type": "markdown",
   "metadata": {},
   "source": [
    "#### Чтение данных"
   ]
  },
  {
   "cell_type": "code",
   "execution_count": 65,
   "metadata": {},
   "outputs": [],
   "source": [
    "df = pd.read_parquet('data/train_data.parquet')"
   ]
  },
  {
   "cell_type": "code",
   "execution_count": 66,
   "metadata": {},
   "outputs": [],
   "source": [
    "test = pd.read_parquet('data/test_data.parquet')"
   ]
  },
  {
   "cell_type": "code",
   "execution_count": 6,
   "metadata": {},
   "outputs": [],
   "source": [
    "df_feat = pd.read_parquet('data/train_data_feat.parquet')"
   ]
  },
  {
   "cell_type": "code",
   "execution_count": 7,
   "metadata": {},
   "outputs": [],
   "source": [
    "test_feat = pd.read_parquet('data/test_data_feat.parquet')"
   ]
  },
  {
   "cell_type": "markdown",
   "metadata": {},
   "source": [
    "#### Чтение изображений"
   ]
  },
  {
   "cell_type": "code",
   "execution_count": 27,
   "metadata": {},
   "outputs": [],
   "source": [
    "xtrain_rec = np.load('data/xtrain_img_rec.npy')\n",
    "xtest_rec = np.load('data/xtest_img_rec.npy')\n",
    "\n",
    "xtrain_gaf = np.load('data/xtrain_img_gaf.npy')\n",
    "xtest_gaf = np.load('data/xtest_img_gaf.npy')"
   ]
  },
  {
   "cell_type": "markdown",
   "metadata": {},
   "source": [
    "Отшкалируем данные и удалим наны"
   ]
  },
  {
   "cell_type": "code",
   "execution_count": 10,
   "metadata": {},
   "outputs": [],
   "source": [
    "# params = ['setting1', 'setting2', 'setting3', 's1', 's2', 's3',\n",
    "#        's4', 's5', 's6', 's7', 's8', 's9', 's10', 's11', 's12', 's13', 's14',\n",
    "#        's15', 's16', 's17', 's18', 's19', 's20', 's21']\n",
    "# noninform_feat = ['s19', 's18', 's16', 's10', 's5', 's6', 's1', 'setting1', 'setting2', 'setting3']\n",
    "\n",
    "# параметры отобранные анализом данных\n",
    "params = ['setting1', 'setting2', 's2', 's3', 's4', 's7', \n",
    "          's8', 's9', 's11', 's12', 's13', 's14', 's15', 's17', \n",
    "          's20', 's21']\n",
    "\n",
    "# параметры отобранные случайным лесом\n",
    "feat_imp = pd.read_parquet('data/feature_imp_class.parquet')\n",
    "params_imp = feat_imp.feature[:50]"
   ]
  },
  {
   "cell_type": "code",
   "execution_count": 11,
   "metadata": {},
   "outputs": [],
   "source": [
    "scaler = StandardScaler()\n",
    "df[params] = scaler.fit_transform(df[params])"
   ]
  },
  {
   "cell_type": "code",
   "execution_count": 12,
   "metadata": {},
   "outputs": [],
   "source": [
    "test[params] = scaler.fit_transform(test[params])"
   ]
  },
  {
   "cell_type": "code",
   "execution_count": 13,
   "metadata": {},
   "outputs": [],
   "source": [
    "df_feat[params_imp] = scaler.fit_transform(df_feat[params_imp])"
   ]
  },
  {
   "cell_type": "code",
   "execution_count": 14,
   "metadata": {},
   "outputs": [],
   "source": [
    "test_feat[params_imp] = scaler.fit_transform(test_feat[params_imp])"
   ]
  },
  {
   "cell_type": "markdown",
   "metadata": {},
   "source": [
    "### Нейронные сети"
   ]
  },
  {
   "cell_type": "markdown",
   "metadata": {},
   "source": [
    "#### Рекуррентные нейронные сети "
   ]
  },
  {
   "cell_type": "code",
   "execution_count": 74,
   "metadata": {},
   "outputs": [],
   "source": [
    "xtrain = np.load('data/xtrain.npy')\n",
    "xtest = np.load('data/xtest.npy')\n",
    "\n",
    "ytrain = np.load('data/ytrain.npy')\n",
    "ytest = np.load('data/ytest.npy')\n",
    "\n",
    "xtrain_feat = np.load('data/xtrain_feat.npy')\n",
    "xtest_feat = np.load('data/xtest_feat.npy')"
   ]
  },
  {
   "cell_type": "code",
   "execution_count": 86,
   "metadata": {},
   "outputs": [],
   "source": [
    "def LSTM_NN(params):\n",
    "    LAYERS = [8, 8, 8, 3]  # число юнитов в слоях              \n",
    "    seq_len = 50\n",
    "\n",
    "    model = Sequential()\n",
    "    model.add(LSTM(input_shape=(seq_len, len(params)), \n",
    "                   units=LAYERS[0],\n",
    "                   activation='tanh', \n",
    "                   recurrent_activation='hard_sigmoid',\n",
    "                   kernel_regularizer=l2(3e-2), \n",
    "                   recurrent_regularizer=l2(3e-2),\n",
    "                   return_sequences=True, return_state=False,\n",
    "                   stateful=False, unroll=False ))\n",
    "    model.add(BatchNormalization())\n",
    "    model.add(LSTM(units=LAYERS[1],\n",
    "                   activation='tanh', \n",
    "                   recurrent_activation='hard_sigmoid',\n",
    "                   kernel_regularizer=l2(3e-2), \n",
    "                   recurrent_regularizer=l2(3e-2),\n",
    "                   return_sequences=True, return_state=False,\n",
    "                   stateful=False, unroll=False ))\n",
    "    model.add(BatchNormalization())\n",
    "    model.add(LSTM(units=LAYERS[2],\n",
    "                   activation='tanh', \n",
    "                   recurrent_activation='hard_sigmoid',\n",
    "                   kernel_regularizer=l2(3e-2), \n",
    "                   recurrent_regularizer=l2(3e-2),\n",
    "                   return_sequences=False, return_state=False,\n",
    "                   stateful=False, unroll=False ))\n",
    "    model.add(BatchNormalization())\n",
    "    model.add(Dense(units=LAYERS[3], activation='sigmoid'))\n",
    "\n",
    "\n",
    "    model.compile(loss='binary_crossentropy',\n",
    "                  metrics=['accuracy'],\n",
    "                  optimizer=Adam(lr=0.01))\n",
    "    \n",
    "    print(model.summary())\n",
    "    return model"
   ]
  },
  {
   "cell_type": "code",
   "execution_count": 87,
   "metadata": {},
   "outputs": [],
   "source": [
    "lr_decay = ReduceLROnPlateau(monitor='loss', \n",
    "                             patience=1, verbose=0, \n",
    "                             factor=0.5, min_lr=1e-8)\n",
    "\n",
    "early_stop = EarlyStopping(monitor='val_accuracy', min_delta=0, \n",
    "                           patience=30, verbose=1, mode='auto',\n",
    "                           baseline=0, restore_best_weights=True)"
   ]
  },
  {
   "cell_type": "code",
   "execution_count": 88,
   "metadata": {},
   "outputs": [
    {
     "name": "stdout",
     "output_type": "stream",
     "text": [
      "Model: \"sequential_8\"\n",
      "_________________________________________________________________\n",
      "Layer (type)                 Output Shape              Param #   \n",
      "=================================================================\n",
      "lstm_18 (LSTM)               (None, 50, 8)             800       \n",
      "_________________________________________________________________\n",
      "batch_normalization_18 (Batc (None, 50, 8)             32        \n",
      "_________________________________________________________________\n",
      "lstm_19 (LSTM)               (None, 50, 8)             544       \n",
      "_________________________________________________________________\n",
      "batch_normalization_19 (Batc (None, 50, 8)             32        \n",
      "_________________________________________________________________\n",
      "lstm_20 (LSTM)               (None, 8)                 544       \n",
      "_________________________________________________________________\n",
      "batch_normalization_20 (Batc (None, 8)                 32        \n",
      "_________________________________________________________________\n",
      "dense_6 (Dense)              (None, 3)                 27        \n",
      "=================================================================\n",
      "Total params: 2,011\n",
      "Trainable params: 1,963\n",
      "Non-trainable params: 48\n",
      "_________________________________________________________________\n",
      "None\n",
      "Train on 12504 samples, validate on 3127 samples\n",
      "Epoch 1/20\n",
      "12504/12504 [==============================] - 39s 3ms/sample - loss: 1.1881 - accuracy: 0.8269 - val_loss: 0.6622 - val_accuracy: 0.7659\n",
      "Epoch 2/20\n",
      "12504/12504 [==============================] - 5s 397us/sample - loss: 0.3171 - accuracy: 0.9082 - val_loss: 0.5601 - val_accuracy: 0.7659\n",
      "Epoch 3/20\n",
      "12504/12504 [==============================] - 5s 388us/sample - loss: 0.2264 - accuracy: 0.9269 - val_loss: 0.5638 - val_accuracy: 0.7659\n",
      "Epoch 4/20\n",
      "12504/12504 [==============================] - 5s 391us/sample - loss: 0.1969 - accuracy: 0.9318 - val_loss: 0.5801 - val_accuracy: 0.7659\n",
      "Epoch 5/20\n",
      "12504/12504 [==============================] - 5s 401us/sample - loss: 0.1920 - accuracy: 0.9306 - val_loss: 0.5833 - val_accuracy: 0.7673\n",
      "Epoch 6/20\n",
      "12504/12504 [==============================] - 5s 379us/sample - loss: 0.1788 - accuracy: 0.9350 - val_loss: 0.6506 - val_accuracy: 0.7661\n",
      "Epoch 7/20\n",
      "12504/12504 [==============================] - 5s 406us/sample - loss: 0.1729 - accuracy: 0.9357 - val_loss: 0.5338 - val_accuracy: 0.7724\n",
      "Epoch 8/20\n",
      "12504/12504 [==============================] - 5s 380us/sample - loss: 0.1747 - accuracy: 0.9374 - val_loss: 0.6304 - val_accuracy: 0.7673\n",
      "Epoch 9/20\n",
      "12504/12504 [==============================] - 5s 380us/sample - loss: 0.1526 - accuracy: 0.9456 - val_loss: 0.5466 - val_accuracy: 0.7800\n",
      "Epoch 10/20\n",
      "12504/12504 [==============================] - 5s 395us/sample - loss: 0.1456 - accuracy: 0.9473 - val_loss: 0.5529 - val_accuracy: 0.7780\n",
      "Epoch 11/20\n",
      "12504/12504 [==============================] - 5s 375us/sample - loss: 0.1368 - accuracy: 0.9510 - val_loss: 0.5038 - val_accuracy: 0.8055\n",
      "Epoch 12/20\n",
      "12504/12504 [==============================] - 5s 372us/sample - loss: 0.1430 - accuracy: 0.9483 - val_loss: 0.5252 - val_accuracy: 0.8303\n",
      "Epoch 13/20\n",
      "12504/12504 [==============================] - 5s 373us/sample - loss: 0.1293 - accuracy: 0.9528 - val_loss: 0.4569 - val_accuracy: 0.8368\n",
      "Epoch 14/20\n",
      "12504/12504 [==============================] - 5s 383us/sample - loss: 0.1274 - accuracy: 0.9536 - val_loss: 0.5942 - val_accuracy: 0.8288\n",
      "Epoch 15/20\n",
      "12504/12504 [==============================] - 5s 371us/sample - loss: 0.1190 - accuracy: 0.9571 - val_loss: 0.4988 - val_accuracy: 0.8356\n",
      "Epoch 16/20\n",
      "12504/12504 [==============================] - 5s 374us/sample - loss: 0.1251 - accuracy: 0.9538 - val_loss: 0.5157 - val_accuracy: 0.8260\n",
      "Epoch 17/20\n",
      "12504/12504 [==============================] - 5s 380us/sample - loss: 0.1136 - accuracy: 0.9600 - val_loss: 0.5060 - val_accuracy: 0.8419\n",
      "Epoch 18/20\n",
      "12504/12504 [==============================] - 5s 387us/sample - loss: 0.1181 - accuracy: 0.9565 - val_loss: 0.2891 - val_accuracy: 0.8854\n",
      "Epoch 19/20\n",
      "12504/12504 [==============================] - 5s 374us/sample - loss: 0.1104 - accuracy: 0.9586 - val_loss: 0.2461 - val_accuracy: 0.9116\n",
      "Epoch 20/20\n",
      "12504/12504 [==============================] - 5s 399us/sample - loss: 0.1129 - accuracy: 0.9592 - val_loss: 0.2148 - val_accuracy: 0.9179\n"
     ]
    }
   ],
   "source": [
    "BATCH_SIZE = 400\n",
    "EPOCHS = 20\n",
    "\n",
    "model = LSTM_NN(params)\n",
    "\n",
    "History = model.fit(np.asarray(xtrain), np.asarray(ytrain),\n",
    "                    epochs=EPOCHS,\n",
    "                    batch_size=BATCH_SIZE,\n",
    "                    validation_split=0.2,\n",
    "                    verbose=1,\n",
    "                    callbacks=[lr_decay, early_stop])"
   ]
  },
  {
   "cell_type": "code",
   "execution_count": 83,
   "metadata": {},
   "outputs": [
    {
     "data": {
      "text/plain": [
       "0.8985951"
      ]
     },
     "execution_count": 83,
     "metadata": {},
     "output_type": "execute_result"
    }
   ],
   "source": [
    "model.evaluate(xtest, ytest, verbose=0)[1]"
   ]
  },
  {
   "cell_type": "code",
   "execution_count": 92,
   "metadata": {},
   "outputs": [],
   "source": [
    "lstm_ypred = model.predict_classes(xtest)"
   ]
  },
  {
   "cell_type": "code",
   "execution_count": 93,
   "metadata": {
    "scrolled": true
   },
   "outputs": [
    {
     "name": "stdout",
     "output_type": "stream",
     "text": [
      "              precision    recall  f1-score   support\n",
      "\n",
      "           0       0.99      0.91      0.95      6922\n",
      "           1       0.61      0.83      0.70      1180\n",
      "           2       0.26      1.00      0.41        60\n",
      "\n",
      "    accuracy                           0.90      8162\n",
      "   macro avg       0.62      0.91      0.69      8162\n",
      "weighted avg       0.93      0.90      0.91      8162\n",
      "\n"
     ]
    }
   ],
   "source": [
    "print(classification_report(np.where(ytest != 0)[1], lstm_ypred))"
   ]
  },
  {
   "cell_type": "code",
   "execution_count": 94,
   "metadata": {},
   "outputs": [
    {
     "data": {
      "text/plain": [
       "array([[6308,  614,    0],\n",
       "       [  34,  976,  170],\n",
       "       [   0,    0,   60]], dtype=int64)"
      ]
     },
     "execution_count": 94,
     "metadata": {},
     "output_type": "execute_result"
    }
   ],
   "source": [
    "confusion_matrix(np.where(ytest != 0)[1], lstm_ypred)"
   ]
  },
  {
   "cell_type": "code",
   "execution_count": 95,
   "metadata": {
    "scrolled": false
   },
   "outputs": [
    {
     "data": {
      "image/png": "[encoded data removed]",
      "text/plain": [
       "<Figure size 504x504 with 1 Axes>"
      ]
     },
     "metadata": {
      "needs_background": "light"
     },
     "output_type": "display_data"
    }
   ],
   "source": [
    "cnf_matrix = confusion_matrix(np.where(ytest != 0)[1], lstm_ypred)\n",
    "plt.figure(figsize=(7,7))\n",
    "plot_confusion_matrix(cnf_matrix, classes=np.unique(np.where(ytest != 0)[1]), title=\"Confusion matrix\")\n",
    "plt.show()"
   ]
  },
  {
   "cell_type": "markdown",
   "metadata": {},
   "source": [
    "#### Сверточные нейронные сети (СNN)"
   ]
  },
  {
   "cell_type": "code",
   "execution_count": 112,
   "metadata": {},
   "outputs": [
    {
     "name": "stdout",
     "output_type": "stream",
     "text": [
      "Model: \"sequential_11\"\n",
      "_________________________________________________________________\n",
      "Layer (type)                 Output Shape              Param #   \n",
      "=================================================================\n",
      "layer_conv1 (Conv2D)         (None, 48, 48, 32)        4640      \n",
      "_________________________________________________________________\n",
      "layer_conv2 (Conv2D)         (None, 46, 46, 32)        9248      \n",
      "_________________________________________________________________\n",
      "max_pool1 (MaxPooling2D)     (None, 23, 23, 32)        0         \n",
      "_________________________________________________________________\n",
      "drop1 (Dropout)              (None, 23, 23, 32)        0         \n",
      "_________________________________________________________________\n",
      "layer_conv3 (Conv2D)         (None, 21, 21, 64)        18496     \n",
      "_________________________________________________________________\n",
      "layer_conv4 (Conv2D)         (None, 19, 19, 64)        36928     \n",
      "_________________________________________________________________\n",
      "max_pool2 (MaxPooling2D)     (None, 9, 9, 64)          0         \n",
      "_________________________________________________________________\n",
      "drop2 (Dropout)              (None, 9, 9, 64)          0         \n",
      "_________________________________________________________________\n",
      "flat1 (Flatten)              (None, 5184)              0         \n",
      "_________________________________________________________________\n",
      "dense1 (Dense)               (None, 256)               1327360   \n",
      "_________________________________________________________________\n",
      "drop3 (Dropout)              (None, 256)               0         \n",
      "_________________________________________________________________\n",
      "dense2 (Dense)               (None, 3)                 771       \n",
      "=================================================================\n",
      "Total params: 1,397,443\n",
      "Trainable params: 1,397,443\n",
      "Non-trainable params: 0\n",
      "_________________________________________________________________\n",
      "None\n"
     ]
    }
   ],
   "source": [
    "model = Sequential()\n",
    "\n",
    "model.add(Conv2D(32, (3, 3), activation='relu', \n",
    "                 input_shape=(50,50,len(params)), name='layer_conv1'))\n",
    "model.add(Conv2D(32, (3, 3), activation='relu', name='layer_conv2'))\n",
    "model.add(MaxPooling2D(pool_size=(2,2), name='max_pool1'))\n",
    "model.add(Dropout(0.25, name='drop1'))\n",
    "\n",
    "model.add(Conv2D(64, (3,3), activation='relu', name='layer_conv3'))\n",
    "model.add(Conv2D(64, (3,3), activation='relu', name='layer_conv4'))\n",
    "model.add(MaxPooling2D(pool_size=(2,2), name='max_pool2'))\n",
    "model.add(Dropout(0.25, name='drop2'))\n",
    "\n",
    "model.add(Flatten(name='flat1'))\n",
    "model.add(Dense(256, activation='relu', name='dense1'))\n",
    "model.add(Dropout(0.5, name='drop3'))\n",
    "model.add(Dense(3, activation='softmax', name='dense2'))\n",
    "\n",
    "model.compile(loss='categorical_crossentropy', optimizer='adam', metrics=['acc'])\n",
    "\n",
    "print(model.summary())"
   ]
  },
  {
   "cell_type": "code",
   "execution_count": 113,
   "metadata": {},
   "outputs": [
    {
     "name": "stdout",
     "output_type": "stream",
     "text": [
      "Train on 12504 samples, validate on 3127 samples\n",
      "Epoch 1/10\n",
      "12504/12504 [==============================] - 130s 10ms/sample - loss: 1.1216 - acc: 0.7058 - val_loss: 0.3844 - val_acc: 0.8411\n",
      "Epoch 2/10\n",
      "12504/12504 [==============================] - 155s 12ms/sample - loss: 0.3675 - acc: 0.8450 - val_loss: 0.3341 - val_acc: 0.8462\n",
      "Epoch 3/10\n",
      "12504/12504 [==============================] - 131s 10ms/sample - loss: 0.3296 - acc: 0.8596 - val_loss: 0.3571 - val_acc: 0.8452\n",
      "Epoch 4/10\n",
      "12504/12504 [==============================] - 126s 10ms/sample - loss: 0.3154 - acc: 0.8620 - val_loss: 0.3383 - val_acc: 0.8638\n",
      "Epoch 5/10\n",
      "12504/12504 [==============================] - 125s 10ms/sample - loss: 0.2704 - acc: 0.8832 - val_loss: 0.3223 - val_acc: 0.8689\n",
      "Epoch 6/10\n",
      "12504/12504 [==============================] - 125s 10ms/sample - loss: 0.2458 - acc: 0.8949 - val_loss: 0.3060 - val_acc: 0.8756\n",
      "Epoch 7/10\n",
      "12504/12504 [==============================] - 123s 10ms/sample - loss: 0.2124 - acc: 0.9096 - val_loss: 0.3406 - val_acc: 0.8686\n",
      "Epoch 8/10\n",
      "12504/12504 [==============================] - 125s 10ms/sample - loss: 0.1736 - acc: 0.9270 - val_loss: 0.3668 - val_acc: 0.8647\n",
      "Epoch 9/10\n",
      "12504/12504 [==============================] - 124s 10ms/sample - loss: 0.1477 - acc: 0.9379 - val_loss: 0.3487 - val_acc: 0.8727\n",
      "Epoch 10/10\n",
      "12504/12504 [==============================] - 124s 10ms/sample - loss: 0.1286 - acc: 0.9465 - val_loss: 0.4024 - val_acc: 0.8631\n"
     ]
    }
   ],
   "source": [
    "BATCH_SIZE = 200\n",
    "EPOCHS = 10\n",
    "\n",
    "history = model.fit(xtrain_rec,\n",
    "                   ytrain,\n",
    "                   batch_size=BATCH_SIZE, \n",
    "                   epochs=EPOCHS,\n",
    "                   validation_split=0.2,\n",
    "                   verbose=1)"
   ]
  },
  {
   "cell_type": "code",
   "execution_count": 114,
   "metadata": {},
   "outputs": [
    {
     "data": {
      "text/plain": [
       "0.82357264"
      ]
     },
     "execution_count": 114,
     "metadata": {},
     "output_type": "execute_result"
    }
   ],
   "source": [
    "model.evaluate(xtest_rec, ytest, verbose=0)[1]"
   ]
  },
  {
   "cell_type": "code",
   "execution_count": 115,
   "metadata": {},
   "outputs": [],
   "source": [
    "rec_ypred = model.predict_classes(xtest_rec)"
   ]
  },
  {
   "cell_type": "code",
   "execution_count": 116,
   "metadata": {},
   "outputs": [
    {
     "name": "stdout",
     "output_type": "stream",
     "text": [
      "              precision    recall  f1-score   support\n",
      "\n",
      "           0       0.97      0.83      0.90      6922\n",
      "           1       0.44      0.79      0.56      1180\n",
      "           2       0.35      0.87      0.50        60\n",
      "\n",
      "    accuracy                           0.82      8162\n",
      "   macro avg       0.59      0.83      0.65      8162\n",
      "weighted avg       0.89      0.82      0.84      8162\n",
      "\n"
     ]
    }
   ],
   "source": [
    "print(classification_report(np.where(ytest != 0)[1], rec_ypred))"
   ]
  },
  {
   "cell_type": "code",
   "execution_count": 117,
   "metadata": {},
   "outputs": [
    {
     "data": {
      "text/plain": [
       "array([[5736, 1186,    0],\n",
       "       [ 149,  934,   97],\n",
       "       [   0,    8,   52]], dtype=int64)"
      ]
     },
     "execution_count": 117,
     "metadata": {},
     "output_type": "execute_result"
    }
   ],
   "source": [
    "confusion_matrix(np.where(ytest != 0)[1], rec_ypred)"
   ]
  },
  {
   "cell_type": "code",
   "execution_count": 118,
   "metadata": {},
   "outputs": [
    {
     "data": {
      "image/png": "[encoded data removed]",
      "text/plain": [
       "<Figure size 504x504 with 1 Axes>"
      ]
     },
     "metadata": {
      "needs_background": "light"
     },
     "output_type": "display_data"
    }
   ],
   "source": [
    "cnf_matrix = confusion_matrix(np.where(ytest != 0)[1], rec_ypred)\n",
    "plt.figure(figsize=(7,7))\n",
    "plot_confusion_matrix(cnf_matrix, classes=np.unique(np.where(ytest != 0)[1]), title=\"Confusion matrix\")\n",
    "plt.show()"
   ]
  },
  {
   "cell_type": "markdown",
   "metadata": {},
   "source": [
    "Gramian Angular Field"
   ]
  },
  {
   "cell_type": "code",
   "execution_count": 104,
   "metadata": {},
   "outputs": [],
   "source": [
    "model = Sequential()\n",
    "\n",
    "model.add(Conv2D(32, (3, 3), activation='relu', \n",
    "                 input_shape=(50,50,len(params)), name='layer_conv1'))\n",
    "model.add(Conv2D(32, (3, 3), activation='relu', name='layer_conv2'))\n",
    "model.add(MaxPooling2D(pool_size=(2,2), name='max_pool1'))\n",
    "model.add(Dropout(0.25, name='drop1'))\n",
    "\n",
    "model.add(Conv2D(64, (3,3), activation='relu', name='layer_conv3'))\n",
    "model.add(Conv2D(64, (3,3), activation='relu', name='layer_conv4'))\n",
    "model.add(MaxPooling2D(pool_size=(2,2), name='max_pool2'))\n",
    "model.add(Dropout(0.25, name='drop2'))\n",
    "\n",
    "model.add(Flatten(name='flat1'))\n",
    "model.add(Dense(256, activation='relu', name='dense1'))\n",
    "model.add(Dropout(0.5, name='drop3'))\n",
    "model.add(Dense(3, activation='softmax', name='dense2'))\n",
    "\n",
    "model.compile(loss='categorical_crossentropy', optimizer='adam', metrics=['acc'])\n"
   ]
  },
  {
   "cell_type": "code",
   "execution_count": 105,
   "metadata": {},
   "outputs": [
    {
     "name": "stdout",
     "output_type": "stream",
     "text": [
      "Model: \"sequential_10\"\n",
      "_________________________________________________________________\n",
      "Layer (type)                 Output Shape              Param #   \n",
      "=================================================================\n",
      "layer_conv1 (Conv2D)         (None, 48, 48, 32)        4640      \n",
      "_________________________________________________________________\n",
      "layer_conv2 (Conv2D)         (None, 46, 46, 32)        9248      \n",
      "_________________________________________________________________\n",
      "max_pool1 (MaxPooling2D)     (None, 23, 23, 32)        0         \n",
      "_________________________________________________________________\n",
      "drop1 (Dropout)              (None, 23, 23, 32)        0         \n",
      "_________________________________________________________________\n",
      "layer_conv3 (Conv2D)         (None, 21, 21, 64)        18496     \n",
      "_________________________________________________________________\n",
      "layer_conv4 (Conv2D)         (None, 19, 19, 64)        36928     \n",
      "_________________________________________________________________\n",
      "max_pool2 (MaxPooling2D)     (None, 9, 9, 64)          0         \n",
      "_________________________________________________________________\n",
      "drop2 (Dropout)              (None, 9, 9, 64)          0         \n",
      "_________________________________________________________________\n",
      "flat1 (Flatten)              (None, 5184)              0         \n",
      "_________________________________________________________________\n",
      "dense1 (Dense)               (None, 256)               1327360   \n",
      "_________________________________________________________________\n",
      "drop3 (Dropout)              (None, 256)               0         \n",
      "_________________________________________________________________\n",
      "dense2 (Dense)               (None, 3)                 771       \n",
      "=================================================================\n",
      "Total params: 1,397,443\n",
      "Trainable params: 1,397,443\n",
      "Non-trainable params: 0\n",
      "_________________________________________________________________\n"
     ]
    }
   ],
   "source": [
    "model.summary()"
   ]
  },
  {
   "cell_type": "code",
   "execution_count": 106,
   "metadata": {},
   "outputs": [
    {
     "name": "stdout",
     "output_type": "stream",
     "text": [
      "Train on 12504 samples, validate on 3127 samples\n",
      "Epoch 1/10\n",
      "12504/12504 [==============================] - 146s 12ms/sample - loss: 0.7772 - acc: 0.6541 - val_loss: 0.5706 - val_acc: 0.7547\n",
      "Epoch 2/10\n",
      "12504/12504 [==============================] - 128s 10ms/sample - loss: 0.4765 - acc: 0.7945 - val_loss: 0.4050 - val_acc: 0.8318\n",
      "Epoch 3/10\n",
      "12504/12504 [==============================] - 131s 11ms/sample - loss: 0.4070 - acc: 0.8282 - val_loss: 0.4037 - val_acc: 0.8331\n",
      "Epoch 4/10\n",
      "12504/12504 [==============================] - 126s 10ms/sample - loss: 0.3359 - acc: 0.8634 - val_loss: 0.3273 - val_acc: 0.8647\n",
      "Epoch 5/10\n",
      "12504/12504 [==============================] - 125s 10ms/sample - loss: 0.2831 - acc: 0.8878 - val_loss: 0.3159 - val_acc: 0.8663\n",
      "Epoch 6/10\n",
      "12504/12504 [==============================] - 128s 10ms/sample - loss: 0.2768 - acc: 0.8893 - val_loss: 0.2894 - val_acc: 0.8772\n",
      "Epoch 7/10\n",
      "12504/12504 [==============================] - 124s 10ms/sample - loss: 0.2122 - acc: 0.9154 - val_loss: 0.3040 - val_acc: 0.8804\n",
      "Epoch 8/10\n",
      "12504/12504 [==============================] - 124s 10ms/sample - loss: 0.2033 - acc: 0.9216 - val_loss: 0.3380 - val_acc: 0.8618\n",
      "Epoch 9/10\n",
      "12504/12504 [==============================] - 125s 10ms/sample - loss: 0.1706 - acc: 0.9358 - val_loss: 0.3220 - val_acc: 0.8798\n",
      "Epoch 10/10\n",
      "12504/12504 [==============================] - 126s 10ms/sample - loss: 0.1423 - acc: 0.9477 - val_loss: 0.3291 - val_acc: 0.8721\n"
     ]
    }
   ],
   "source": [
    "BATCH_SIZE = 200\n",
    "EPOCHS = 10\n",
    "\n",
    "history = model.fit(xtrain_gaf,\n",
    "                   ytrain,\n",
    "                   batch_size=BATCH_SIZE, \n",
    "                   epochs=EPOCHS,\n",
    "                   validation_split=0.2,\n",
    "                   verbose=1)"
   ]
  },
  {
   "cell_type": "code",
   "execution_count": 107,
   "metadata": {},
   "outputs": [
    {
     "data": {
      "text/plain": [
       "0.7880421"
      ]
     },
     "execution_count": 107,
     "metadata": {},
     "output_type": "execute_result"
    }
   ],
   "source": [
    "model.evaluate(xtest_gaf, ytest, verbose=0)[1]"
   ]
  },
  {
   "cell_type": "code",
   "execution_count": 108,
   "metadata": {},
   "outputs": [],
   "source": [
    "gaf_ypred = model.predict_classes(xtest_gaf)"
   ]
  },
  {
   "cell_type": "code",
   "execution_count": 109,
   "metadata": {},
   "outputs": [
    {
     "name": "stdout",
     "output_type": "stream",
     "text": [
      "              precision    recall  f1-score   support\n",
      "\n",
      "           0       0.98      0.80      0.88      6922\n",
      "           1       0.38      0.73      0.50      1180\n",
      "           2       0.17      0.80      0.28        60\n",
      "\n",
      "    accuracy                           0.79      8162\n",
      "   macro avg       0.51      0.78      0.55      8162\n",
      "weighted avg       0.89      0.79      0.82      8162\n",
      "\n"
     ]
    }
   ],
   "source": [
    "print(classification_report(np.where(ytest != 0)[1], gaf_ypred))"
   ]
  },
  {
   "cell_type": "code",
   "execution_count": 110,
   "metadata": {},
   "outputs": [
    {
     "data": {
      "text/plain": [
       "array([[5524, 1378,   20],\n",
       "       [ 102,  860,  218],\n",
       "       [   5,    7,   48]], dtype=int64)"
      ]
     },
     "execution_count": 110,
     "metadata": {},
     "output_type": "execute_result"
    }
   ],
   "source": [
    "confusion_matrix(np.where(ytest != 0)[1], gaf_ypred)"
   ]
  },
  {
   "cell_type": "code",
   "execution_count": 111,
   "metadata": {},
   "outputs": [
    {
     "data": {
      "image/png": "[encoded data removed]",
      "text/plain": [
       "<Figure size 504x504 with 1 Axes>"
      ]
     },
     "metadata": {
      "needs_background": "light"
     },
     "output_type": "display_data"
    }
   ],
   "source": [
    "cnf_matrix = confusion_matrix(np.where(ytest != 0)[1], gaf_ypred)\n",
    "plt.figure(figsize=(7,7))\n",
    "plot_confusion_matrix(cnf_matrix, classes=np.unique(np.where(ytest != 0)[1]), title=\"Confusion matrix\")\n",
    "plt.show()"
   ]
  },
  {
   "cell_type": "markdown",
   "metadata": {},
   "source": [
    "Визуализация фильтров"
   ]
  },
  {
   "cell_type": "code",
   "execution_count": 75,
   "metadata": {},
   "outputs": [
    {
     "data": {
      "text/plain": [
       "(3, 3, 16, 32)"
      ]
     },
     "execution_count": 75,
     "metadata": {},
     "output_type": "execute_result"
    }
   ],
   "source": [
    "layer_variables = model.get_layer('conv2d_4').get_weights()\n",
    "\n",
    "weights = layer_variables[0]\n",
    "biases = layer_variables[1]\n",
    "\n",
    "w = np.array(weights)\n",
    "w.shape"
   ]
  },
  {
   "cell_type": "code",
   "execution_count": 76,
   "metadata": {},
   "outputs": [
    {
     "name": "stdout",
     "output_type": "stream",
     "text": [
      "(32, 16, 3, 3)\n"
     ]
    }
   ],
   "source": [
    "w = np.moveaxis(w, 2, 0)\n",
    "w = np.moveaxis(w, 3, 0)\n",
    "print(w.shape)"
   ]
  },
  {
   "cell_type": "code",
   "execution_count": 77,
   "metadata": {},
   "outputs": [
    {
     "data": {
      "text/plain": [
       "16"
      ]
     },
     "execution_count": 77,
     "metadata": {},
     "output_type": "execute_result"
    }
   ],
   "source": [
    "w.shape[1]"
   ]
  },
  {
   "cell_type": "code",
   "execution_count": 78,
   "metadata": {},
   "outputs": [
    {
     "data": {
      "image/png": "[encoded data removed]",
      "text/plain": [
       "<Figure size 720x720 with 16 Axes>"
      ]
     },
     "metadata": {
      "needs_background": "light"
     },
     "output_type": "display_data"
    }
   ],
   "source": [
    "\n",
    "\n",
    "# the total filter in previous layers will be obtained from w.shape[1]\n",
    "total_filters_in_prev_layers = 16\n",
    "\n",
    "cols = 8\n",
    "rows = 8\n",
    "# rows * cols > total_filters\n",
    "\n",
    "# current_filter = which filter's weights we want to see\n",
    "current_filter = 10\n",
    "\n",
    "fig = plt.figure(figsize=(10, 10))\n",
    "\n",
    "for each_depth in range(w.shape[1]):\n",
    "    fig.add_subplot(rows, cols, each_depth+1)\n",
    "    plt.imshow(w[current_filter][each_depth], cmap='gray')"
   ]
  },
  {
   "cell_type": "code",
   "execution_count": 108,
   "metadata": {},
   "outputs": [],
   "source": [
    "layer_outputs = [layer.output for layer in model.layers]\n",
    "activation_model = Model(inputs=model.input, outputs=layer_outputs)\n",
    "activations = activation_model.predict(xtrain_img[10].reshape(1,50,50,len(params)))\n",
    " \n",
    "def display_activation(activations, col_size, row_size, act_index): \n",
    "    activation = activations[act_index]\n",
    "    activation_index=0\n",
    "    fig, ax = plt.subplots(row_size, col_size, figsize=(row_size*2.5,col_size*1.5))\n",
    "    for row in range(0,row_size):\n",
    "        for col in range(0,col_size):\n",
    "            ax[row][col].imshow(activation[0, :, :, activation_index], cmap='gray')\n",
    "            activation_index += 1"
   ]
  },
  {
   "cell_type": "code",
   "execution_count": 109,
   "metadata": {},
   "outputs": [
    {
     "data": {
      "text/plain": [
       "<matplotlib.image.AxesImage at 0x18c374c2f28>"
      ]
     },
     "execution_count": 109,
     "metadata": {},
     "output_type": "execute_result"
    },
    {
     "data": {
      "image/png": "[encoded data removed]",
      "text/plain": [
       "<Figure size 432x288 with 1 Axes>"
      ]
     },
     "metadata": {
      "needs_background": "light"
     },
     "output_type": "display_data"
    }
   ],
   "source": [
    "plt.imshow(xtrain_img[10][:,:,0])"
   ]
  },
  {
   "cell_type": "code",
   "execution_count": 114,
   "metadata": {},
   "outputs": [
    {
     "data": {
      "image/png": "[encoded data removed]",
      "text/plain": [
       "<Figure size 1440x864 with 64 Axes>"
      ]
     },
     "metadata": {
      "needs_background": "light"
     },
     "output_type": "display_data"
    }
   ],
   "source": [
    "display_activation(activations, 8, 8, 6)"
   ]
  },
  {
   "cell_type": "markdown",
   "metadata": {},
   "source": [
    "#### Приложение"
   ]
  },
  {
   "cell_type": "code",
   "execution_count": 43,
   "metadata": {},
   "outputs": [],
   "source": [
    "def plot_confusion_matrix(cm, classes, title='Confusion matrix', cmap=plt.cm.Blues):\n",
    "\n",
    "    cm = cm.astype('float') / cm.sum(axis=1)[:, np.newaxis]\n",
    "\n",
    "    plt.imshow(cm, interpolation='nearest', cmap=cmap)\n",
    "    plt.title(title, fontsize=25)\n",
    "    #plt.colorbar()\n",
    "    tick_marks = np.arange(len(classes))\n",
    "    plt.xticks(tick_marks, classes, rotation=90, fontsize=15)\n",
    "    plt.yticks(tick_marks, classes, fontsize=15)\n",
    "\n",
    "    fmt = '.2f'\n",
    "    thresh = cm.max() / 2.\n",
    "    for i, j in itertools.product(range(cm.shape[0]), range(cm.shape[1])):\n",
    "        plt.text(j, i, format(cm[i, j], fmt),\n",
    "                 horizontalalignment=\"center\",\n",
    "                 color=\"white\" if cm[i, j] > thresh else \"black\", fontsize = 14)\n",
    "\n",
    "    plt.ylabel('True label', fontsize=20)\n",
    "    plt.xlabel('Predicted label', fontsize=20)"
   ]
  }
 ],
 "metadata": {
  "kernelspec": {
   "display_name": "Python 3",
   "language": "python",
   "name": "python3"
  },
  "language_info": {
   "codemirror_mode": {
    "name": "ipython",
    "version": 3
   },
   "file_extension": ".py",
   "mimetype": "text/x-python",
   "name": "python",
   "nbconvert_exporter": "python",
   "pygments_lexer": "ipython3",
   "version": "3.7.3"
  }
 },
 "nbformat": 4,
 "nbformat_minor": 4
}
