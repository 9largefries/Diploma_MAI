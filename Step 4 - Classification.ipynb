{
 "cells": [
  {
   "cell_type": "markdown",
   "metadata": {},
   "source": [
    "## Классификация RUL различными методами\n",
    "\n",
    "TO DO:\n",
    "- LogReg\n",
    "- Random Forest\n",
    "- Naive Bayes (?)\n",
    "- Gradient Boosting (sklearn, xgboost, catboost)\n",
    "- LSTM\n",
    "- CNN \n",
    "    - реккурентные графики\n",
    "    - Gramian Angular Fields\n",
    "    - Markov Transition Fields \n",
    "    "
   ]
  },
  {
   "cell_type": "markdown",
   "metadata": {},
   "source": [
    "#### Импорт библиотек"
   ]
  },
  {
   "cell_type": "code",
   "execution_count": 8,
   "metadata": {},
   "outputs": [],
   "source": [
    "import pandas as pd\n",
    "import numpy as np\n",
    "import math\n",
    "import matplotlib.pyplot as plt\n",
    "from matplotlib import gridspec\n",
    "from PIL import Image\n",
    "import itertools\n",
    "from time import time\n",
    "\n",
    "from sklearn.preprocessing import StandardScaler\n",
    "from scipy.spatial.distance import pdist, squareform\n",
    "from sklearn.metrics import confusion_matrix, classification_report\n",
    "from sklearn.base import BaseEstimator, TransformerMixin\n",
    "from sklearn.utils.validation import check_array\n",
    "\n",
    "from tensorflow import GradientTape\n",
    "from tensorflow.keras.models import *\n",
    "from tensorflow.keras.layers import *\n",
    "from tensorflow.keras.optimizers import SGD\n",
    "from tensorflow.keras.optimizers import Adam\n",
    "from tensorflow.keras.callbacks import ReduceLROnPlateau, EarlyStopping\n",
    "from tensorflow.keras.regularizers import l2\n",
    "from tensorflow.keras.utils import to_categorical\n",
    "from tensorflow.keras.callbacks import ModelCheckpoint\n",
    "from tensorflow.keras import backend as K\n",
    "\n",
    "import warnings\n",
    "warnings.filterwarnings(\"ignore\")"
   ]
  },
  {
   "cell_type": "markdown",
   "metadata": {},
   "source": [
    "#### Чтение данных"
   ]
  },
  {
   "cell_type": "code",
   "execution_count": 9,
   "metadata": {},
   "outputs": [],
   "source": [
    "df = pd.read_parquet('data/train_data.parquet')"
   ]
  },
  {
   "cell_type": "code",
   "execution_count": 3,
   "metadata": {},
   "outputs": [],
   "source": [
    "test = pd.read_parquet('data/test_data.parquet')"
   ]
  },
  {
   "cell_type": "code",
   "execution_count": 6,
   "metadata": {},
   "outputs": [],
   "source": [
    "df_feat = pd.read_parquet('data/train_data_feat.parquet')"
   ]
  },
  {
   "cell_type": "code",
   "execution_count": 7,
   "metadata": {},
   "outputs": [],
   "source": [
    "test_feat = pd.read_parquet('data/test_data_feat.parquet')"
   ]
  },
  {
   "cell_type": "markdown",
   "metadata": {},
   "source": [
    "#### Чтение изображений"
   ]
  },
  {
   "cell_type": "code",
   "execution_count": 27,
   "metadata": {},
   "outputs": [],
   "source": [
    "xtrain_rec = np.load('data/xtrain_img_rec.npy')\n",
    "xtest_rec = np.load('data/xtest_img_rec.npy')\n",
    "\n",
    "xtrain_gaf = np.load('data/xtrain_img_gaf.npy')\n",
    "xtest_gaf = np.load('data/xtest_img_gaf.npy')"
   ]
  },
  {
   "cell_type": "markdown",
   "metadata": {},
   "source": [
    "Отшкалируем данные и удалим наны"
   ]
  },
  {
   "cell_type": "code",
   "execution_count": 10,
   "metadata": {},
   "outputs": [],
   "source": [
    "# params = ['setting1', 'setting2', 'setting3', 's1', 's2', 's3',\n",
    "#        's4', 's5', 's6', 's7', 's8', 's9', 's10', 's11', 's12', 's13', 's14',\n",
    "#        's15', 's16', 's17', 's18', 's19', 's20', 's21']\n",
    "# noninform_feat = ['s19', 's18', 's16', 's10', 's5', 's6', 's1', 'setting1', 'setting2', 'setting3']\n",
    "\n",
    "# параметры отобранные анализом данных\n",
    "params = ['setting1', 'setting2', 's2', 's3', 's4', 's7', \n",
    "          's8', 's9', 's11', 's12', 's13', 's14', 's15', 's17', \n",
    "          's20', 's21']\n",
    "\n",
    "# параметры отобранные случайным лесом\n",
    "feat_imp = pd.read_parquet('data/feature_imp_class.parquet')\n",
    "params_imp = feat_imp.feature[:50]"
   ]
  },
  {
   "cell_type": "code",
   "execution_count": 11,
   "metadata": {},
   "outputs": [],
   "source": [
    "scaler = StandardScaler()\n",
    "df[params] = scaler.fit_transform(df[params])"
   ]
  },
  {
   "cell_type": "code",
   "execution_count": 12,
   "metadata": {},
   "outputs": [],
   "source": [
    "test[params] = scaler.fit_transform(test[params])"
   ]
  },
  {
   "cell_type": "code",
   "execution_count": 13,
   "metadata": {},
   "outputs": [],
   "source": [
    "df_feat[params_imp] = scaler.fit_transform(df_feat[params_imp])"
   ]
  },
  {
   "cell_type": "code",
   "execution_count": 14,
   "metadata": {},
   "outputs": [],
   "source": [
    "test_feat[params_imp] = scaler.fit_transform(test_feat[params_imp])"
   ]
  },
  {
   "cell_type": "markdown",
   "metadata": {},
   "source": [
    "### Нейронные сети"
   ]
  },
  {
   "cell_type": "markdown",
   "metadata": {},
   "source": [
    "#### Рекуррентные нейронные сети "
   ]
  },
  {
   "cell_type": "code",
   "execution_count": 36,
   "metadata": {},
   "outputs": [],
   "source": [
    "xtrain = np.load('data/xtrain.npy')\n",
    "xtest = np.load('data/xtest.npy')\n",
    "\n",
    "ytrain = np.load('data/ytrain.npy')\n",
    "ytest = np.load('data/ytest.npy')\n",
    "\n",
    "xtrain_feat = np.load('data/xtrain_feat.npy')\n",
    "xtest_feat = np.load('data/xtest_feat.npy')"
   ]
  },
  {
   "cell_type": "code",
   "execution_count": 46,
   "metadata": {},
   "outputs": [],
   "source": [
    "def LSTM_NN(params):\n",
    "    LAYERS = [8, 8, 8, 3]  # число юнитов в слоях              \n",
    "    seq_len = 50\n",
    "\n",
    "    model = Sequential()\n",
    "    model.add(LSTM(input_shape=(seq_len, len(params)), \n",
    "                   units=LAYERS[0],\n",
    "                   activation='tanh', \n",
    "                   recurrent_activation='hard_sigmoid',\n",
    "                   kernel_regularizer=l2(3e-2), \n",
    "                   recurrent_regularizer=l2(3e-2),\n",
    "                   return_sequences=True, return_state=False,\n",
    "                   stateful=False, unroll=False ))\n",
    "    model.add(BatchNormalization())\n",
    "    model.add(LSTM(units=LAYERS[1],\n",
    "                   activation='tanh', \n",
    "                   recurrent_activation='hard_sigmoid',\n",
    "                   kernel_regularizer=l2(3e-2), \n",
    "                   recurrent_regularizer=l2(3e-2),\n",
    "                   return_sequences=True, return_state=False,\n",
    "                   stateful=False, unroll=False ))\n",
    "    model.add(BatchNormalization())\n",
    "    model.add(LSTM(units=LAYERS[2],\n",
    "                   activation='tanh', \n",
    "                   recurrent_activation='hard_sigmoid',\n",
    "                   kernel_regularizer=l2(3e-2), \n",
    "                   recurrent_regularizer=l2(3e-2),\n",
    "                   return_sequences=False, return_state=False,\n",
    "                   stateful=False, unroll=False ))\n",
    "    model.add(BatchNormalization())\n",
    "    model.add(Dense(units=LAYERS[3], activation='sigmoid'))\n",
    "\n",
    "\n",
    "    model.compile(loss='binary_crossentropy',\n",
    "                  metrics=['accuracy'],\n",
    "                  optimizer=Adam(lr=0.01))\n",
    "    \n",
    "    print(model.summary())\n",
    "    return model"
   ]
  },
  {
   "cell_type": "code",
   "execution_count": 30,
   "metadata": {},
   "outputs": [],
   "source": [
    "lr_decay = ReduceLROnPlateau(monitor='loss', \n",
    "                             patience=1, verbose=0, \n",
    "                             factor=0.5, min_lr=1e-8)\n",
    "\n",
    "early_stop = EarlyStopping(monitor='val_accuracy', min_delta=0, \n",
    "                           patience=30, verbose=1, mode='auto',\n",
    "                           baseline=0, restore_best_weights=True)"
   ]
  },
  {
   "cell_type": "code",
   "execution_count": 47,
   "metadata": {},
   "outputs": [
    {
     "name": "stdout",
     "output_type": "stream",
     "text": [
      "Model: \"sequential_2\"\n",
      "_________________________________________________________________\n",
      "Layer (type)                 Output Shape              Param #   \n",
      "=================================================================\n",
      "lstm_3 (LSTM)                (None, 50, 8)             800       \n",
      "_________________________________________________________________\n",
      "batch_normalization_3 (Batch (None, 50, 8)             32        \n",
      "_________________________________________________________________\n",
      "lstm_4 (LSTM)                (None, 50, 8)             544       \n",
      "_________________________________________________________________\n",
      "batch_normalization_4 (Batch (None, 50, 8)             32        \n",
      "_________________________________________________________________\n",
      "lstm_5 (LSTM)                (None, 8)                 544       \n",
      "_________________________________________________________________\n",
      "batch_normalization_5 (Batch (None, 8)                 32        \n",
      "_________________________________________________________________\n",
      "dense_1 (Dense)              (None, 3)                 27        \n",
      "=================================================================\n",
      "Total params: 2,011\n",
      "Trainable params: 1,963\n",
      "Non-trainable params: 48\n",
      "_________________________________________________________________\n",
      "None\n",
      "Train on 12504 samples, validate on 3127 samples\n",
      "Epoch 1/20\n",
      "12504/12504 [==============================] - 23s 2ms/sample - loss: 0.8038 - accuracy: 0.8412 - val_loss: 0.5972 - val_accuracy: 0.7659\n",
      "Epoch 2/20\n",
      "12504/12504 [==============================] - 9s 715us/sample - loss: 0.2376 - accuracy: 0.9211 - val_loss: 0.6015 - val_accuracy: 0.7659\n",
      "Epoch 3/20\n",
      "12504/12504 [==============================] - 8s 645us/sample - loss: 0.2094 - accuracy: 0.9254 - val_loss: 0.5672 - val_accuracy: 0.7659\n",
      "Epoch 4/20\n",
      "12504/12504 [==============================] - 8s 643us/sample - loss: 0.2074 - accuracy: 0.9258 - val_loss: 0.5745 - val_accuracy: 0.7659\n",
      "Epoch 5/20\n",
      "12504/12504 [==============================] - 8s 643us/sample - loss: 0.1968 - accuracy: 0.9306 - val_loss: 0.4351 - val_accuracy: 0.8262\n",
      "Epoch 6/20\n",
      "12504/12504 [==============================] - 8s 655us/sample - loss: 0.1831 - accuracy: 0.9357 - val_loss: 0.3903 - val_accuracy: 0.8743\n",
      "Epoch 7/20\n",
      "12504/12504 [==============================] - 8s 658us/sample - loss: 0.1732 - accuracy: 0.9379 - val_loss: 0.3221 - val_accuracy: 0.9043\n",
      "Epoch 8/20\n",
      "12504/12504 [==============================] - 8s 662us/sample - loss: 0.1642 - accuracy: 0.9444 - val_loss: 0.4117 - val_accuracy: 0.8787\n",
      "Epoch 9/20\n",
      "12504/12504 [==============================] - 8s 679us/sample - loss: 0.1716 - accuracy: 0.9398 - val_loss: 0.2546 - val_accuracy: 0.9013\n",
      "Epoch 10/20\n",
      "12504/12504 [==============================] - 8s 601us/sample - loss: 0.1472 - accuracy: 0.9477 - val_loss: 0.2117 - val_accuracy: 0.9126\n",
      "Epoch 11/20\n",
      "12504/12504 [==============================] - 8s 619us/sample - loss: 0.1447 - accuracy: 0.9492 - val_loss: 0.1876 - val_accuracy: 0.9278\n",
      "Epoch 12/20\n",
      "12504/12504 [==============================] - 8s 614us/sample - loss: 0.1427 - accuracy: 0.9492 - val_loss: 0.2130 - val_accuracy: 0.9173\n",
      "Epoch 13/20\n",
      "12504/12504 [==============================] - 8s 623us/sample - loss: 0.1374 - accuracy: 0.9509 - val_loss: 0.2059 - val_accuracy: 0.9237\n",
      "Epoch 14/20\n",
      "12504/12504 [==============================] - 9s 708us/sample - loss: 0.1381 - accuracy: 0.9511 - val_loss: 0.2039 - val_accuracy: 0.9229\n",
      "Epoch 15/20\n",
      "12504/12504 [==============================] - 8s 609us/sample - loss: 0.1219 - accuracy: 0.9559 - val_loss: 0.1600 - val_accuracy: 0.9435\n",
      "Epoch 16/20\n",
      "12504/12504 [==============================] - 8s 623us/sample - loss: 0.1218 - accuracy: 0.9561 - val_loss: 0.1642 - val_accuracy: 0.9399\n",
      "Epoch 17/20\n",
      "12504/12504 [==============================] - 8s 608us/sample - loss: 0.1125 - accuracy: 0.9600 - val_loss: 0.1326 - val_accuracy: 0.9498\n",
      "Epoch 18/20\n",
      "12504/12504 [==============================] - 7s 589us/sample - loss: 0.1128 - accuracy: 0.9595 - val_loss: 0.1403 - val_accuracy: 0.9485\n",
      "Epoch 19/20\n",
      "12504/12504 [==============================] - 7s 593us/sample - loss: 0.1112 - accuracy: 0.9594 - val_loss: 0.1444 - val_accuracy: 0.9471\n",
      "Epoch 20/20\n",
      "12504/12504 [==============================] - 8s 607us/sample - loss: 0.1055 - accuracy: 0.9618 - val_loss: 0.1427 - val_accuracy: 0.9494\n"
     ]
    }
   ],
   "source": [
    "BATCH_SIZE = 200\n",
    "EPOCHS = 20\n",
    "\n",
    "model = LSTM_NN(params)\n",
    "\n",
    "History = model.fit(np.asarray(xtrain), np.asarray(ytrain),\n",
    "                    epochs=EPOCHS,\n",
    "                    batch_size=BATCH_SIZE,\n",
    "                    validation_split=0.2,\n",
    "                    verbose=1,\n",
    "                    callbacks=[lr_decay, early_stop])"
   ]
  },
  {
   "cell_type": "code",
   "execution_count": 48,
   "metadata": {},
   "outputs": [
    {
     "data": {
      "text/plain": [
       "0.88295335"
      ]
     },
     "execution_count": 48,
     "metadata": {},
     "output_type": "execute_result"
    }
   ],
   "source": [
    "model.evaluate(xtest, ytest, verbose=0)[1]"
   ]
  },
  {
   "cell_type": "code",
   "execution_count": 49,
   "metadata": {},
   "outputs": [
    {
     "name": "stdout",
     "output_type": "stream",
     "text": [
      "              precision    recall  f1-score   support\n",
      "\n",
      "           0       1.00      0.84      0.91      6922\n",
      "           1       0.44      0.71      0.54      1180\n",
      "           2       0.15      1.00      0.26        60\n",
      "\n",
      "    accuracy                           0.83      8162\n",
      "   macro avg       0.53      0.85      0.57      8162\n",
      "weighted avg       0.91      0.83      0.85      8162\n",
      "\n"
     ]
    }
   ],
   "source": [
    "print(classification_report(np.where(ytest != 0)[1], model.predict_classes(xtest)))"
   ]
  },
  {
   "cell_type": "code",
   "execution_count": 50,
   "metadata": {
    "scrolled": false
   },
   "outputs": [
    {
     "data": {
      "image/png": "[encoded data removed]",
      "text/plain": [
       "<Figure size 504x504 with 1 Axes>"
      ]
     },
     "metadata": {
      "needs_background": "light"
     },
     "output_type": "display_data"
    }
   ],
   "source": [
    "cnf_matrix = confusion_matrix(np.where(ytest != 0)[1], model.predict_classes(xtest))\n",
    "plt.figure(figsize=(7,7))\n",
    "plot_confusion_matrix(cnf_matrix, classes=np.unique(np.where(ytest != 0)[1]), title=\"Confusion matrix\")\n",
    "plt.show()"
   ]
  },
  {
   "cell_type": "markdown",
   "metadata": {},
   "source": [
    "#### Сверточные нейронные сети (СNN)"
   ]
  },
  {
   "cell_type": "code",
   "execution_count": 55,
   "metadata": {},
   "outputs": [
    {
     "name": "stdout",
     "output_type": "stream",
     "text": [
      "Model: \"sequential_4\"\n",
      "_________________________________________________________________\n",
      "Layer (type)                 Output Shape              Param #   \n",
      "=================================================================\n",
      "layer_conv1 (Conv2D)         (None, 48, 48, 32)        4640      \n",
      "_________________________________________________________________\n",
      "layer_conv2 (Conv2D)         (None, 46, 46, 32)        9248      \n",
      "_________________________________________________________________\n",
      "max_pool1 (MaxPooling2D)     (None, 23, 23, 32)        0         \n",
      "_________________________________________________________________\n",
      "drop1 (Dropout)              (None, 23, 23, 32)        0         \n",
      "_________________________________________________________________\n",
      "layer_conv3 (Conv2D)         (None, 21, 21, 64)        18496     \n",
      "_________________________________________________________________\n",
      "layer_conv4 (Conv2D)         (None, 19, 19, 64)        36928     \n",
      "_________________________________________________________________\n",
      "max_pool2 (MaxPooling2D)     (None, 9, 9, 64)          0         \n",
      "_________________________________________________________________\n",
      "drop2 (Dropout)              (None, 9, 9, 64)          0         \n",
      "_________________________________________________________________\n",
      "flat1 (Flatten)              (None, 5184)              0         \n",
      "_________________________________________________________________\n",
      "dense1 (Dense)               (None, 256)               1327360   \n",
      "_________________________________________________________________\n",
      "drop3 (Dropout)              (None, 256)               0         \n",
      "_________________________________________________________________\n",
      "dense2 (Dense)               (None, 3)                 771       \n",
      "=================================================================\n",
      "Total params: 1,397,443\n",
      "Trainable params: 1,397,443\n",
      "Non-trainable params: 0\n",
      "_________________________________________________________________\n",
      "None\n"
     ]
    }
   ],
   "source": [
    "model = Sequential()\n",
    "\n",
    "model.add(Conv2D(32, (3, 3), activation='relu', \n",
    "                 input_shape=(50,50,len(params)), name='layer_conv1'))\n",
    "model.add(Conv2D(32, (3, 3), activation='relu', name='layer_conv2'))\n",
    "model.add(MaxPooling2D(pool_size=(2,2), name='max_pool1'))\n",
    "model.add(Dropout(0.25, name='drop1'))\n",
    "\n",
    "model.add(Conv2D(64, (3,3), activation='relu', name='layer_conv3'))\n",
    "model.add(Conv2D(64, (3,3), activation='relu', name='layer_conv4'))\n",
    "model.add(MaxPooling2D(pool_size=(2,2), name='max_pool2'))\n",
    "model.add(Dropout(0.25, name='drop2'))\n",
    "\n",
    "model.add(Flatten(name='flat1'))\n",
    "model.add(Dense(256, activation='relu', name='dense1'))\n",
    "model.add(Dropout(0.5, name='drop3'))\n",
    "model.add(Dense(3, activation='softmax', name='dense2'))\n",
    "\n",
    "model.compile(loss='categorical_crossentropy', optimizer='adam', metrics=['acc'])\n",
    "\n",
    "print(model.summary())"
   ]
  },
  {
   "cell_type": "code",
   "execution_count": 56,
   "metadata": {},
   "outputs": [
    {
     "name": "stdout",
     "output_type": "stream",
     "text": [
      "Train on 12504 samples, validate on 3127 samples\n",
      "Epoch 1/20\n",
      "12504/12504 [==============================] - 162s 13ms/sample - loss: 1.1219 - acc: 0.6218 - val_loss: 0.7422 - val_acc: 0.6796\n",
      "Epoch 2/20\n",
      "12504/12504 [==============================] - 153s 12ms/sample - loss: 0.4512 - acc: 0.8137 - val_loss: 0.3977 - val_acc: 0.8420\n",
      "Epoch 3/20\n",
      "12504/12504 [==============================] - 136s 11ms/sample - loss: 0.3653 - acc: 0.8484 - val_loss: 0.3509 - val_acc: 0.8590\n",
      "Epoch 4/20\n",
      "12504/12504 [==============================] - 133s 11ms/sample - loss: 0.3205 - acc: 0.8634 - val_loss: 0.3568 - val_acc: 0.8423\n",
      "Epoch 5/20\n",
      "12504/12504 [==============================] - 134s 11ms/sample - loss: 0.3069 - acc: 0.8711 - val_loss: 0.3603 - val_acc: 0.8395\n",
      "Epoch 6/20\n",
      "12504/12504 [==============================] - 132s 11ms/sample - loss: 0.2754 - acc: 0.8837 - val_loss: 0.3557 - val_acc: 0.8606\n",
      "Epoch 7/20\n",
      "12504/12504 [==============================] - 123s 10ms/sample - loss: 0.2407 - acc: 0.9000 - val_loss: 0.3584 - val_acc: 0.8334\n",
      "Epoch 8/20\n",
      "12504/12504 [==============================] - 120s 10ms/sample - loss: 0.1989 - acc: 0.9164 - val_loss: 0.3930 - val_acc: 0.8561\n",
      "Epoch 9/20\n",
      "12504/12504 [==============================] - 118s 9ms/sample - loss: 0.1689 - acc: 0.9282 - val_loss: 0.4702 - val_acc: 0.8161\n",
      "Epoch 10/20\n",
      "12504/12504 [==============================] - 127s 10ms/sample - loss: 0.1727 - acc: 0.9290 - val_loss: 0.4622 - val_acc: 0.8427\n",
      "Epoch 11/20\n",
      "12504/12504 [==============================] - 125s 10ms/sample - loss: 0.1476 - acc: 0.9350 - val_loss: 0.4073 - val_acc: 0.8484\n",
      "Epoch 12/20\n",
      "12504/12504 [==============================] - 126s 10ms/sample - loss: 0.1470 - acc: 0.9353 - val_loss: 0.4385 - val_acc: 0.8379\n",
      "Epoch 13/20\n",
      "12504/12504 [==============================] - 121s 10ms/sample - loss: 0.1356 - acc: 0.9439 - val_loss: 0.4551 - val_acc: 0.8497\n",
      "Epoch 14/20\n",
      "12504/12504 [==============================] - 131s 10ms/sample - loss: 0.1170 - acc: 0.9491 - val_loss: 0.5662 - val_acc: 0.8436\n",
      "Epoch 15/20\n",
      "12504/12504 [==============================] - 133s 11ms/sample - loss: 0.1155 - acc: 0.9509 - val_loss: 0.6148 - val_acc: 0.8494\n",
      "Epoch 16/20\n",
      "12504/12504 [==============================] - 145s 12ms/sample - loss: 0.0930 - acc: 0.9624 - val_loss: 0.6421 - val_acc: 0.8203\n",
      "Epoch 17/20\n",
      "12504/12504 [==============================] - 140s 11ms/sample - loss: 0.1083 - acc: 0.9578 - val_loss: 0.4881 - val_acc: 0.8244\n",
      "Epoch 18/20\n",
      "12504/12504 [==============================] - 141s 11ms/sample - loss: 0.0859 - acc: 0.9650 - val_loss: 0.6312 - val_acc: 0.8369\n",
      "Epoch 19/20\n",
      "12504/12504 [==============================] - 145s 12ms/sample - loss: 0.0665 - acc: 0.9734 - val_loss: 0.5234 - val_acc: 0.8475\n",
      "Epoch 20/20\n",
      "12504/12504 [==============================] - 144s 11ms/sample - loss: 0.0604 - acc: 0.9766 - val_loss: 0.5615 - val_acc: 0.8356\n"
     ]
    }
   ],
   "source": [
    "BATCH_SIZE = 200\n",
    "EPOCHS = 20\n",
    "\n",
    "history = model.fit(xtrain_rec,\n",
    "                   ytrain,\n",
    "                   batch_size=BATCH_SIZE, \n",
    "                   epochs=EPOCHS,\n",
    "                   validation_split=0.2,\n",
    "                   verbose=1)"
   ]
  },
  {
   "cell_type": "code",
   "execution_count": 49,
   "metadata": {},
   "outputs": [
    {
     "data": {
      "text/plain": [
       "0.8719677"
      ]
     },
     "execution_count": 49,
     "metadata": {},
     "output_type": "execute_result"
    }
   ],
   "source": [
    "model.evaluate(xtest_img, ytest, verbose=0)[1]"
   ]
  },
  {
   "cell_type": "code",
   "execution_count": 50,
   "metadata": {},
   "outputs": [
    {
     "name": "stdout",
     "output_type": "stream",
     "text": [
      "              precision    recall  f1-score   support\n",
      "\n",
      "           0       0.96      0.90      0.93      6922\n",
      "           1       0.54      0.72      0.62      1180\n",
      "           2       0.32      0.72      0.44        60\n",
      "\n",
      "    accuracy                           0.87      8162\n",
      "   macro avg       0.61      0.78      0.66      8162\n",
      "weighted avg       0.90      0.87      0.88      8162\n",
      "\n"
     ]
    }
   ],
   "source": [
    "print(classification_report(np.where(ytest != 0)[1], model.predict_classes(xtest_img)))"
   ]
  },
  {
   "cell_type": "code",
   "execution_count": 51,
   "metadata": {},
   "outputs": [
    {
     "data": {
      "image/png": "[encoded data removed]",
      "text/plain": [
       "<Figure size 504x504 with 1 Axes>"
      ]
     },
     "metadata": {
      "needs_background": "light"
     },
     "output_type": "display_data"
    }
   ],
   "source": [
    "cnf_matrix = confusion_matrix(np.where(ytest != 0)[1], model.predict_classes(xtest_img))\n",
    "plt.figure(figsize=(7,7))\n",
    "plot_confusion_matrix(cnf_matrix, classes=np.unique(np.where(ytest != 0)[1]), title=\"Confusion matrix\")\n",
    "plt.show()"
   ]
  },
  {
   "cell_type": "markdown",
   "metadata": {},
   "source": [
    "Gramian Angular Field"
   ]
  },
  {
   "cell_type": "code",
   "execution_count": 57,
   "metadata": {},
   "outputs": [
    {
     "name": "stdout",
     "output_type": "stream",
     "text": [
      "Model: \"sequential_4\"\n",
      "_________________________________________________________________\n",
      "Layer (type)                 Output Shape              Param #   \n",
      "=================================================================\n",
      "layer_conv1 (Conv2D)         (None, 48, 48, 32)        4640      \n",
      "_________________________________________________________________\n",
      "layer_conv2 (Conv2D)         (None, 46, 46, 32)        9248      \n",
      "_________________________________________________________________\n",
      "max_pool1 (MaxPooling2D)     (None, 23, 23, 32)        0         \n",
      "_________________________________________________________________\n",
      "drop1 (Dropout)              (None, 23, 23, 32)        0         \n",
      "_________________________________________________________________\n",
      "layer_conv3 (Conv2D)         (None, 21, 21, 64)        18496     \n",
      "_________________________________________________________________\n",
      "layer_conv4 (Conv2D)         (None, 19, 19, 64)        36928     \n",
      "_________________________________________________________________\n",
      "max_pool2 (MaxPooling2D)     (None, 9, 9, 64)          0         \n",
      "_________________________________________________________________\n",
      "drop2 (Dropout)              (None, 9, 9, 64)          0         \n",
      "_________________________________________________________________\n",
      "flat1 (Flatten)              (None, 5184)              0         \n",
      "_________________________________________________________________\n",
      "dense1 (Dense)               (None, 256)               1327360   \n",
      "_________________________________________________________________\n",
      "drop3 (Dropout)              (None, 256)               0         \n",
      "_________________________________________________________________\n",
      "dense2 (Dense)               (None, 3)                 771       \n",
      "=================================================================\n",
      "Total params: 1,397,443\n",
      "Trainable params: 1,397,443\n",
      "Non-trainable params: 0\n",
      "_________________________________________________________________\n"
     ]
    }
   ],
   "source": [
    "model.summary()"
   ]
  },
  {
   "cell_type": "code",
   "execution_count": 58,
   "metadata": {},
   "outputs": [
    {
     "name": "stdout",
     "output_type": "stream",
     "text": [
      "Train on 12504 samples, validate on 3127 samples\n",
      "Epoch 1/10\n",
      "12504/12504 [==============================] - 134s 11ms/sample - loss: 0.7793 - acc: 0.6507 - val_loss: 0.5311 - val_acc: 0.7988\n",
      "Epoch 2/10\n",
      "12504/12504 [==============================] - 101s 8ms/sample - loss: 0.4943 - acc: 0.7842 - val_loss: 0.5149 - val_acc: 0.7960\n",
      "Epoch 3/10\n",
      "12504/12504 [==============================] - 100s 8ms/sample - loss: 0.4331 - acc: 0.8145 - val_loss: 0.4662 - val_acc: 0.8203\n",
      "Epoch 4/10\n",
      "12504/12504 [==============================] - 106s 8ms/sample - loss: 0.4153 - acc: 0.8214 - val_loss: 0.4509 - val_acc: 0.8343\n",
      "Epoch 5/10\n",
      "12504/12504 [==============================] - 102s 8ms/sample - loss: 0.3778 - acc: 0.8409 - val_loss: 0.4386 - val_acc: 0.8324\n",
      "Epoch 6/10\n",
      "12504/12504 [==============================] - 105s 8ms/sample - loss: 0.3484 - acc: 0.8536 - val_loss: 0.4628 - val_acc: 0.8260\n",
      "Epoch 7/10\n",
      "12504/12504 [==============================] - 101s 8ms/sample - loss: 0.3331 - acc: 0.8631 - val_loss: 0.4653 - val_acc: 0.8260\n",
      "Epoch 8/10\n",
      "12504/12504 [==============================] - 101s 8ms/sample - loss: 0.3052 - acc: 0.8746 - val_loss: 0.4714 - val_acc: 0.8190\n",
      "Epoch 9/10\n",
      "12504/12504 [==============================] - 99s 8ms/sample - loss: 0.2794 - acc: 0.8873 - val_loss: 0.4778 - val_acc: 0.8324\n",
      "Epoch 10/10\n",
      "12504/12504 [==============================] - 104s 8ms/sample - loss: 0.2535 - acc: 0.8980 - val_loss: 0.4938 - val_acc: 0.8337\n"
     ]
    }
   ],
   "source": [
    "BATCH_SIZE = 200\n",
    "EPOCHS = 10\n",
    "\n",
    "history = model.fit(xtrain_gaf,\n",
    "                   ytrain,\n",
    "                   batch_size=BATCH_SIZE, \n",
    "                   epochs=EPOCHS,\n",
    "                   validation_split=0.2,\n",
    "                   verbose=1)"
   ]
  },
  {
   "cell_type": "code",
   "execution_count": 61,
   "metadata": {},
   "outputs": [
    {
     "data": {
      "text/plain": [
       "0.79576087"
      ]
     },
     "execution_count": 61,
     "metadata": {},
     "output_type": "execute_result"
    }
   ],
   "source": [
    "model.evaluate(xtest_gaf, ytest, verbose=0)[1]"
   ]
  },
  {
   "cell_type": "code",
   "execution_count": 63,
   "metadata": {},
   "outputs": [
    {
     "name": "stdout",
     "output_type": "stream",
     "text": [
      "              precision    recall  f1-score   support\n",
      "\n",
      "           0       0.95      0.84      0.89      6922\n",
      "           1       0.38      0.52      0.44      1180\n",
      "           2       0.13      0.88      0.22        60\n",
      "\n",
      "    accuracy                           0.80      8162\n",
      "   macro avg       0.49      0.75      0.52      8162\n",
      "weighted avg       0.86      0.80      0.82      8162\n",
      "\n"
     ]
    }
   ],
   "source": [
    "print(classification_report(np.where(ytest != 0)[1], model.predict_classes(xtest_gaf)))"
   ]
  },
  {
   "cell_type": "code",
   "execution_count": 64,
   "metadata": {},
   "outputs": [
    {
     "data": {
      "image/png": "[encoded data removed]",
      "text/plain": [
       "<Figure size 504x504 with 1 Axes>"
      ]
     },
     "metadata": {
      "needs_background": "light"
     },
     "output_type": "display_data"
    }
   ],
   "source": [
    "cnf_matrix = confusion_matrix(np.where(ytest != 0)[1], model.predict_classes(xtest_gaf))\n",
    "plt.figure(figsize=(7,7))\n",
    "plot_confusion_matrix(cnf_matrix, classes=np.unique(np.where(ytest != 0)[1]), title=\"Confusion matrix\")\n",
    "plt.show()"
   ]
  },
  {
   "cell_type": "markdown",
   "metadata": {},
   "source": [
    "Визуализация фильтров"
   ]
  },
  {
   "cell_type": "code",
   "execution_count": 75,
   "metadata": {},
   "outputs": [
    {
     "data": {
      "text/plain": [
       "(3, 3, 16, 32)"
      ]
     },
     "execution_count": 75,
     "metadata": {},
     "output_type": "execute_result"
    }
   ],
   "source": [
    "layer_variables = model.get_layer('conv2d_4').get_weights()\n",
    "\n",
    "weights = layer_variables[0]\n",
    "biases = layer_variables[1]\n",
    "\n",
    "w = np.array(weights)\n",
    "w.shape"
   ]
  },
  {
   "cell_type": "code",
   "execution_count": 76,
   "metadata": {},
   "outputs": [
    {
     "name": "stdout",
     "output_type": "stream",
     "text": [
      "(32, 16, 3, 3)\n"
     ]
    }
   ],
   "source": [
    "w = np.moveaxis(w, 2, 0)\n",
    "w = np.moveaxis(w, 3, 0)\n",
    "print(w.shape)"
   ]
  },
  {
   "cell_type": "code",
   "execution_count": 77,
   "metadata": {},
   "outputs": [
    {
     "data": {
      "text/plain": [
       "16"
      ]
     },
     "execution_count": 77,
     "metadata": {},
     "output_type": "execute_result"
    }
   ],
   "source": [
    "w.shape[1]"
   ]
  },
  {
   "cell_type": "code",
   "execution_count": 78,
   "metadata": {},
   "outputs": [
    {
     "data": {
      "image/png": "[encoded data removed]",
      "text/plain": [
       "<Figure size 720x720 with 16 Axes>"
      ]
     },
     "metadata": {
      "needs_background": "light"
     },
     "output_type": "display_data"
    }
   ],
   "source": [
    "\n",
    "\n",
    "# the total filter in previous layers will be obtained from w.shape[1]\n",
    "total_filters_in_prev_layers = 16\n",
    "\n",
    "cols = 8\n",
    "rows = 8\n",
    "# rows * cols > total_filters\n",
    "\n",
    "# current_filter = which filter's weights we want to see\n",
    "current_filter = 10\n",
    "\n",
    "fig = plt.figure(figsize=(10, 10))\n",
    "\n",
    "for each_depth in range(w.shape[1]):\n",
    "    fig.add_subplot(rows, cols, each_depth+1)\n",
    "    plt.imshow(w[current_filter][each_depth], cmap='gray')"
   ]
  },
  {
   "cell_type": "code",
   "execution_count": 108,
   "metadata": {},
   "outputs": [],
   "source": [
    "layer_outputs = [layer.output for layer in model.layers]\n",
    "activation_model = Model(inputs=model.input, outputs=layer_outputs)\n",
    "activations = activation_model.predict(xtrain_img[10].reshape(1,50,50,len(params)))\n",
    " \n",
    "def display_activation(activations, col_size, row_size, act_index): \n",
    "    activation = activations[act_index]\n",
    "    activation_index=0\n",
    "    fig, ax = plt.subplots(row_size, col_size, figsize=(row_size*2.5,col_size*1.5))\n",
    "    for row in range(0,row_size):\n",
    "        for col in range(0,col_size):\n",
    "            ax[row][col].imshow(activation[0, :, :, activation_index], cmap='gray')\n",
    "            activation_index += 1"
   ]
  },
  {
   "cell_type": "code",
   "execution_count": 109,
   "metadata": {},
   "outputs": [
    {
     "data": {
      "text/plain": [
       "<matplotlib.image.AxesImage at 0x18c374c2f28>"
      ]
     },
     "execution_count": 109,
     "metadata": {},
     "output_type": "execute_result"
    },
    {
     "data": {
      "image/png": "[encoded data removed]",
      "text/plain": [
       "<Figure size 432x288 with 1 Axes>"
      ]
     },
     "metadata": {
      "needs_background": "light"
     },
     "output_type": "display_data"
    }
   ],
   "source": [
    "plt.imshow(xtrain_img[10][:,:,0])"
   ]
  },
  {
   "cell_type": "code",
   "execution_count": 114,
   "metadata": {},
   "outputs": [
    {
     "data": {
      "image/png": "[encoded data removed]",
      "text/plain": [
       "<Figure size 1440x864 with 64 Axes>"
      ]
     },
     "metadata": {
      "needs_background": "light"
     },
     "output_type": "display_data"
    }
   ],
   "source": [
    "display_activation(activations, 8, 8, 6)"
   ]
  },
  {
   "cell_type": "markdown",
   "metadata": {},
   "source": [
    "#### Приложение"
   ]
  },
  {
   "cell_type": "code",
   "execution_count": 43,
   "metadata": {},
   "outputs": [],
   "source": [
    "def plot_confusion_matrix(cm, classes, title='Confusion matrix', cmap=plt.cm.Blues):\n",
    "\n",
    "    cm = cm.astype('float') / cm.sum(axis=1)[:, np.newaxis]\n",
    "\n",
    "    plt.imshow(cm, interpolation='nearest', cmap=cmap)\n",
    "    plt.title(title, fontsize=25)\n",
    "    #plt.colorbar()\n",
    "    tick_marks = np.arange(len(classes))\n",
    "    plt.xticks(tick_marks, classes, rotation=90, fontsize=15)\n",
    "    plt.yticks(tick_marks, classes, fontsize=15)\n",
    "\n",
    "    fmt = '.2f'\n",
    "    thresh = cm.max() / 2.\n",
    "    for i, j in itertools.product(range(cm.shape[0]), range(cm.shape[1])):\n",
    "        plt.text(j, i, format(cm[i, j], fmt),\n",
    "                 horizontalalignment=\"center\",\n",
    "                 color=\"white\" if cm[i, j] > thresh else \"black\", fontsize = 14)\n",
    "\n",
    "    plt.ylabel('True label', fontsize=20)\n",
    "    plt.xlabel('Predicted label', fontsize=20)"
   ]
  },
  {
   "cell_type": "code",
   "execution_count": 41,
   "metadata": {},
   "outputs": [],
   "source": [
    "def plot_confusion_matrix(cm,\n",
    "                          target_names,\n",
    "                          title='Confusion matrix',\n",
    "                          cmap=None,\n",
    "                          normalize=True):\n",
    "    import matplotlib.pyplot as plt\n",
    "    import numpy as np\n",
    "    import itertools\n",
    "\n",
    "    accuracy = np.trace(cm) / float(np.sum(cm))\n",
    "    misclass = 1 - accuracy\n",
    "\n",
    "    if cmap is None:\n",
    "        cmap = plt.get_cmap('Blues')\n",
    "\n",
    "    plt.figure(figsize=(8, 6))\n",
    "    plt.imshow(cm, interpolation='nearest', cmap=cmap)\n",
    "    plt.title(title)\n",
    "    plt.colorbar()\n",
    "\n",
    "    if target_names is not None:\n",
    "        tick_marks = np.arange(len(target_names))\n",
    "        plt.xticks(tick_marks, target_names, rotation=45)\n",
    "        plt.yticks(tick_marks, target_names)\n",
    "\n",
    "    if normalize:\n",
    "        cm = cm.astype('float') / cm.sum(axis=1)[:, np.newaxis]\n",
    "\n",
    "\n",
    "    thresh = cm.max() / 1.5 if normalize else cm.max() / 2\n",
    "    for i, j in itertools.product(range(cm.shape[0]), range(cm.shape[1])):\n",
    "        if normalize:\n",
    "            plt.text(j, i, \"{:0.4f}\".format(cm[i, j]),\n",
    "                     horizontalalignment=\"center\",\n",
    "                     color=\"white\" if cm[i, j] > thresh else \"black\")\n",
    "        else:\n",
    "            plt.text(j, i, \"{:,}\".format(cm[i, j]),\n",
    "                     horizontalalignment=\"center\",\n",
    "                     color=\"white\" if cm[i, j] > thresh else \"black\")\n",
    "\n",
    "\n",
    "    plt.tight_layout()\n",
    "    plt.ylabel('True label')\n",
    "    plt.xlabel('Predicted label\\naccuracy={:0.4f}; misclass={:0.4f}'.format(accuracy, misclass))\n",
    "    plt.show()"
   ]
  },
  {
   "cell_type": "code",
   "execution_count": null,
   "metadata": {},
   "outputs": [],
   "source": []
  }
 ],
 "metadata": {
  "kernelspec": {
   "display_name": "Python 3",
   "language": "python",
   "name": "python3"
  },
  "language_info": {
   "codemirror_mode": {
    "name": "ipython",
    "version": 3
   },
   "file_extension": ".py",
   "mimetype": "text/x-python",
   "name": "python",
   "nbconvert_exporter": "python",
   "pygments_lexer": "ipython3",
   "version": "3.7.3"
  }
 },
 "nbformat": 4,
 "nbformat_minor": 4
}
