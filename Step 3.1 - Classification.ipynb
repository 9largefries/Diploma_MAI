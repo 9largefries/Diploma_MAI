{
 "cells": [
  {
   "cell_type": "markdown",
   "metadata": {},
   "source": [
    "## Классификация RUL различными методами\n",
    "(Ноутбук для классических алгоритмов)\n",
    "\n",
    "TO DO:\n",
    "- LogReg\n",
    "- Random Forest\n",
    "- Gradient Boosting (sklearn, xgboost, catboost)"
   ]
  },
  {
   "cell_type": "markdown",
   "metadata": {},
   "source": [
    "#### Импорт библиотек"
   ]
  },
  {
   "cell_type": "code",
   "execution_count": 41,
   "metadata": {},
   "outputs": [],
   "source": [
    "import pandas as pd\n",
    "import numpy as np\n",
    "import math\n",
    "import matplotlib.pyplot as plt\n",
    "import seaborn as sns\n",
    "from matplotlib import gridspec\n",
    "from PIL import Image\n",
    "import itertools\n",
    "from time import time\n",
    "\n",
    "from sklearn.linear_model import LogisticRegression\n",
    "from sklearn.ensemble import RandomForestClassifier\n",
    "from xgboost import XGBClassifier\n",
    "from sklearn.ensemble import GradientBoostingClassifier\n",
    "from catboost import CatBoostClassifier\n",
    "\n",
    "from sklearn import metrics\n",
    "from sklearn.preprocessing import StandardScaler\n",
    "from scipy.spatial.distance import pdist, squareform\n",
    "from sklearn.metrics import confusion_matrix, classification_report\n",
    "from sklearn.base import BaseEstimator, TransformerMixin\n",
    "from sklearn.utils.validation import check_array\n",
    "\n",
    "import warnings\n",
    "warnings.filterwarnings(\"ignore\")"
   ]
  },
  {
   "cell_type": "markdown",
   "metadata": {},
   "source": [
    "#### Чтение данных"
   ]
  },
  {
   "cell_type": "code",
   "execution_count": 2,
   "metadata": {},
   "outputs": [],
   "source": [
    "df = pd.read_parquet('data/train_data.parquet')"
   ]
  },
  {
   "cell_type": "code",
   "execution_count": 3,
   "metadata": {},
   "outputs": [],
   "source": [
    "test = pd.read_parquet('data/test_data.parquet')"
   ]
  },
  {
   "cell_type": "markdown",
   "metadata": {},
   "source": [
    "Отшкалируем данные и удалим наны"
   ]
  },
  {
   "cell_type": "code",
   "execution_count": 4,
   "metadata": {},
   "outputs": [],
   "source": [
    "# params = ['setting1', 'setting2', 'setting3', 's1', 's2', 's3',\n",
    "#        's4', 's5', 's6', 's7', 's8', 's9', 's10', 's11', 's12', 's13', 's14',\n",
    "#        's15', 's16', 's17', 's18', 's19', 's20', 's21']\n",
    "\n",
    "params = ['setting1', 'setting2', 's2', 's3', 's4', 's7', \n",
    "          's8', 's9', 's11', 's12', 's13', 's14', 's15', 's17', \n",
    "          's20', 's21']"
   ]
  },
  {
   "cell_type": "code",
   "execution_count": 5,
   "metadata": {},
   "outputs": [],
   "source": [
    "scaler = StandardScaler()\n",
    "df[params] = scaler.fit_transform(df[params])"
   ]
  },
  {
   "cell_type": "code",
   "execution_count": 6,
   "metadata": {},
   "outputs": [],
   "source": [
    "test[params] = scaler.fit_transform(test[params])"
   ]
  },
  {
   "cell_type": "code",
   "execution_count": 10,
   "metadata": {},
   "outputs": [],
   "source": [
    "xtrain = df[params]\n",
    "ytrain = df['label']\n",
    "xtest = test[params]\n",
    "ytest = test['label']\n"
   ]
  },
  {
   "cell_type": "code",
   "execution_count": null,
   "metadata": {},
   "outputs": [],
   "source": [
    "def get_results(model, y_test, y_pred, y_):\n",
    "    \n",
    "    multiclass_metrics = {\n",
    "                            'Accuracy' : metrics.accuracy_score(y_test, y_pred),\n",
    "                            'macro F1' : metrics.f1_score(y_test, y_pred, average='macro'),\n",
    "                            'micro F1' : metrics.f1_score(y_test, y_pred, average='micro'),\n",
    "                            'macro Precision' : metrics.precision_score(y_test, y_pred,  average='macro'),\n",
    "                            'micro Precision' : metrics.precision_score(y_test, y_pred,  average='micro'),\n",
    "                            'macro Recall' : metrics.recall_score(y_test, y_pred,  average='macro'),\n",
    "                            'micro Recall' : metrics.recall_score(y_test, y_pred,  average='micro'),\n",
    "                            'macro ROC AUC' : metrics.roc_auc_score(y_test, y_score, average='macro'),\n",
    "                            'micro ROC AUC' : metrics.roc_auc_score(y_test, y_score, average='micro')\n",
    "                        }\n",
    "\n",
    "    df_metrics = pd.DataFrame.from_dict(multiclass_metrics, orient='index')\n",
    "    df_metrics.columns = [model]"
   ]
  },
  {
   "cell_type": "markdown",
   "metadata": {},
   "source": [
    "#### Логистическая регрессия"
   ]
  },
  {
   "cell_type": "code",
   "execution_count": 11,
   "metadata": {},
   "outputs": [
    {
     "name": "stdout",
     "output_type": "stream",
     "text": [
      "              precision    recall  f1-score   support\n",
      "\n",
      "           0       0.99      0.82      0.89     11856\n",
      "           1       0.23      0.55      0.33      1180\n",
      "           2       0.11      1.00      0.21        60\n",
      "\n",
      "    accuracy                           0.79     13096\n",
      "   macro avg       0.44      0.79      0.47     13096\n",
      "weighted avg       0.92      0.79      0.84     13096\n",
      "\n"
     ]
    }
   ],
   "source": [
    "model = LogisticRegression(solver='saga',\n",
    "                  multi_class='multinomial',\n",
    "                  max_iter=10000)\n",
    "\n",
    "model.fit(xtrain, ytrain)\n",
    "\n",
    "y_pred = model.predict(xtest)\n",
    "\n",
    "print(classification_report(ytest, y_pred))"
   ]
  },
  {
   "cell_type": "code",
   "execution_count": 14,
   "metadata": {},
   "outputs": [
    {
     "data": {
      "image/png": "[encoded data removed]",
      "text/plain": [
       "<Figure size 504x504 with 1 Axes>"
      ]
     },
     "metadata": {
      "needs_background": "light"
     },
     "output_type": "display_data"
    }
   ],
   "source": [
    "cnf_matrix = confusion_matrix(ytest, y_pred)\n",
    "plt.figure(figsize=(7,7))\n",
    "plot_confusion_matrix(cnf_matrix, classes=[0,1,2], title=\"Confusion matrix\")\n",
    "plt.show()"
   ]
  },
  {
   "cell_type": "markdown",
   "metadata": {},
   "source": [
    "Случайный лес"
   ]
  },
  {
   "cell_type": "code",
   "execution_count": 15,
   "metadata": {},
   "outputs": [
    {
     "name": "stdout",
     "output_type": "stream",
     "text": [
      "              precision    recall  f1-score   support\n",
      "\n",
      "           0       0.99      0.79      0.88     11856\n",
      "           1       0.21      0.56      0.31      1180\n",
      "           2       0.11      1.00      0.20        60\n",
      "\n",
      "    accuracy                           0.77     13096\n",
      "   macro avg       0.44      0.78      0.46     13096\n",
      "weighted avg       0.92      0.77      0.83     13096\n",
      "\n"
     ]
    }
   ],
   "source": [
    "model = RandomForestClassifier(n_estimators=50)\n",
    "\n",
    "model.fit(xtrain, ytrain)\n",
    "\n",
    "y_pred = model.predict(xtest)\n",
    "\n",
    "print(classification_report(ytest, y_pred))"
   ]
  },
  {
   "cell_type": "code",
   "execution_count": 16,
   "metadata": {},
   "outputs": [
    {
     "data": {
      "image/png": "[encoded data removed]",
      "text/plain": [
       "<Figure size 504x504 with 1 Axes>"
      ]
     },
     "metadata": {
      "needs_background": "light"
     },
     "output_type": "display_data"
    }
   ],
   "source": [
    "cnf_matrix = confusion_matrix(ytest, y_pred)\n",
    "plt.figure(figsize=(7,7))\n",
    "plot_confusion_matrix(cnf_matrix, classes=[0,1,2], title=\"Confusion matrix\")\n",
    "plt.show()"
   ]
  },
  {
   "cell_type": "markdown",
   "metadata": {},
   "source": [
    "#### Градиентный бустинг"
   ]
  },
  {
   "cell_type": "code",
   "execution_count": 19,
   "metadata": {},
   "outputs": [
    {
     "name": "stdout",
     "output_type": "stream",
     "text": [
      "              precision    recall  f1-score   support\n",
      "\n",
      "           0       0.99      0.80      0.88     11856\n",
      "           1       0.22      0.55      0.31      1180\n",
      "           2       0.11      1.00      0.20        60\n",
      "\n",
      "    accuracy                           0.77     13096\n",
      "   macro avg       0.44      0.78      0.46     13096\n",
      "weighted avg       0.91      0.77      0.83     13096\n",
      "\n"
     ]
    }
   ],
   "source": [
    "clf = XGBClassifier(max_depth=6,\n",
    "                        learning_rate=0.01,\n",
    "                        objective='multi:softmax',\n",
    "                        n_jobs=-1,\n",
    "                        n_estimators=500, \n",
    "                        num_class=3)\n",
    "\n",
    "clf.fit(xtrain, ytrain)\n",
    "y_pred = clf.predict(xtest)\n",
    "\n",
    "print(classification_report(ytest, y_pred))"
   ]
  },
  {
   "cell_type": "code",
   "execution_count": 33,
   "metadata": {},
   "outputs": [
    {
     "data": {
      "image/png": "[encoded data removed]",
      "text/plain": [
       "<Figure size 504x504 with 1 Axes>"
      ]
     },
     "metadata": {
      "needs_background": "light"
     },
     "output_type": "display_data"
    }
   ],
   "source": [
    "cnf_matrix = confusion_matrix(ytest, y_pred)\n",
    "plt.figure(figsize=(7,7))\n",
    "plot_confusion_matrix(cnf_matrix, classes=[0,1,2], title=\"Confusion matrix\")\n",
    "plt.show()"
   ]
  },
  {
   "cell_type": "code",
   "execution_count": 35,
   "metadata": {},
   "outputs": [
    {
     "name": "stdout",
     "output_type": "stream",
     "text": [
      "              precision    recall  f1-score   support\n",
      "\n",
      "           0       0.99      0.79      0.88     11856\n",
      "           1       0.22      0.57      0.31      1180\n",
      "           2       0.11      1.00      0.21        60\n",
      "\n",
      "    accuracy                           0.77     13096\n",
      "   macro avg       0.44      0.79      0.47     13096\n",
      "weighted avg       0.92      0.77      0.82     13096\n",
      "\n"
     ]
    }
   ],
   "source": [
    "clf = GradientBoostingClassifier(learning_rate=0.01,\n",
    "                        n_estimators=500)\n",
    "\n",
    "clf.fit(xtrain, ytrain)\n",
    "y_pred = clf.predict(xtest)\n",
    "\n",
    "print(classification_report(ytest, y_pred))"
   ]
  },
  {
   "cell_type": "code",
   "execution_count": 36,
   "metadata": {},
   "outputs": [
    {
     "data": {
      "image/png": "[encoded data removed]",
      "text/plain": [
       "<Figure size 504x504 with 1 Axes>"
      ]
     },
     "metadata": {
      "needs_background": "light"
     },
     "output_type": "display_data"
    }
   ],
   "source": [
    "cnf_matrix = confusion_matrix(ytest, y_pred)\n",
    "plt.figure(figsize=(7,7))\n",
    "plot_confusion_matrix(cnf_matrix, classes=[0,1,2], title=\"Confusion matrix\")\n",
    "plt.show()"
   ]
  },
  {
   "cell_type": "code",
   "execution_count": 42,
   "metadata": {},
   "outputs": [
    {
     "name": "stdout",
     "output_type": "stream",
     "text": [
      "0:\tlearn: 1.0851444\ttotal: 60.4ms\tremaining: 18.1s\n",
      "1:\tlearn: 1.0721648\ttotal: 140ms\tremaining: 20.9s\n",
      "2:\tlearn: 1.0593225\ttotal: 214ms\tremaining: 21.2s\n",
      "3:\tlearn: 1.0470658\ttotal: 288ms\tremaining: 21.3s\n",
      "4:\tlearn: 1.0349177\ttotal: 353ms\tremaining: 20.8s\n",
      "5:\tlearn: 1.0230522\ttotal: 401ms\tremaining: 19.6s\n",
      "6:\tlearn: 1.0114045\ttotal: 448ms\tremaining: 18.8s\n",
      "7:\tlearn: 1.0000323\ttotal: 490ms\tremaining: 17.9s\n",
      "8:\tlearn: 0.9889100\ttotal: 539ms\tremaining: 17.4s\n",
      "9:\tlearn: 0.9780772\ttotal: 580ms\tremaining: 16.8s\n",
      "10:\tlearn: 0.9674235\ttotal: 627ms\tremaining: 16.5s\n",
      "11:\tlearn: 0.9570974\ttotal: 670ms\tremaining: 16.1s\n",
      "12:\tlearn: 0.9469790\ttotal: 717ms\tremaining: 15.8s\n",
      "13:\tlearn: 0.9372212\ttotal: 759ms\tremaining: 15.5s\n",
      "14:\tlearn: 0.9274037\ttotal: 799ms\tremaining: 15.2s\n",
      "15:\tlearn: 0.9178436\ttotal: 840ms\tremaining: 14.9s\n",
      "16:\tlearn: 0.9085211\ttotal: 884ms\tremaining: 14.7s\n",
      "17:\tlearn: 0.8993934\ttotal: 927ms\tremaining: 14.5s\n",
      "18:\tlearn: 0.8904048\ttotal: 968ms\tremaining: 14.3s\n",
      "19:\tlearn: 0.8815360\ttotal: 1.01s\tremaining: 14.2s\n",
      "20:\tlearn: 0.8728338\ttotal: 1.05s\tremaining: 14s\n",
      "21:\tlearn: 0.8643468\ttotal: 1.1s\tremaining: 13.9s\n",
      "22:\tlearn: 0.8560821\ttotal: 1.14s\tremaining: 13.8s\n",
      "23:\tlearn: 0.8478559\ttotal: 1.18s\tremaining: 13.6s\n",
      "24:\tlearn: 0.8400362\ttotal: 1.22s\tremaining: 13.4s\n",
      "25:\tlearn: 0.8324046\ttotal: 1.27s\tremaining: 13.4s\n",
      "26:\tlearn: 0.8246671\ttotal: 1.32s\tremaining: 13.4s\n",
      "27:\tlearn: 0.8172713\ttotal: 1.38s\tremaining: 13.4s\n",
      "28:\tlearn: 0.8099015\ttotal: 1.45s\tremaining: 13.6s\n",
      "29:\tlearn: 0.8024887\ttotal: 1.52s\tremaining: 13.7s\n",
      "30:\tlearn: 0.7954293\ttotal: 1.56s\tremaining: 13.6s\n",
      "31:\tlearn: 0.7884825\ttotal: 1.6s\tremaining: 13.4s\n",
      "32:\tlearn: 0.7815427\ttotal: 1.64s\tremaining: 13.3s\n",
      "33:\tlearn: 0.7749218\ttotal: 1.69s\tremaining: 13.2s\n",
      "34:\tlearn: 0.7684166\ttotal: 1.73s\tremaining: 13.1s\n",
      "35:\tlearn: 0.7619030\ttotal: 1.77s\tremaining: 13s\n",
      "36:\tlearn: 0.7554529\ttotal: 1.81s\tremaining: 12.8s\n",
      "37:\tlearn: 0.7491253\ttotal: 1.84s\tremaining: 12.7s\n",
      "38:\tlearn: 0.7429041\ttotal: 1.88s\tremaining: 12.6s\n",
      "39:\tlearn: 0.7369184\ttotal: 1.93s\tremaining: 12.6s\n",
      "40:\tlearn: 0.7309253\ttotal: 1.97s\tremaining: 12.4s\n",
      "41:\tlearn: 0.7250647\ttotal: 2.01s\tremaining: 12.3s\n",
      "42:\tlearn: 0.7192886\ttotal: 2.05s\tremaining: 12.2s\n",
      "43:\tlearn: 0.7135559\ttotal: 2.08s\tremaining: 12.1s\n",
      "44:\tlearn: 0.7078813\ttotal: 2.12s\tremaining: 12s\n",
      "45:\tlearn: 0.7024239\ttotal: 2.17s\tremaining: 12s\n",
      "46:\tlearn: 0.6969844\ttotal: 2.21s\tremaining: 11.9s\n",
      "47:\tlearn: 0.6916819\ttotal: 2.25s\tremaining: 11.8s\n",
      "48:\tlearn: 0.6864110\ttotal: 2.29s\tremaining: 11.7s\n",
      "49:\tlearn: 0.6812175\ttotal: 2.32s\tremaining: 11.6s\n",
      "50:\tlearn: 0.6762444\ttotal: 2.36s\tremaining: 11.5s\n",
      "51:\tlearn: 0.6712189\ttotal: 2.41s\tremaining: 11.5s\n",
      "52:\tlearn: 0.6663429\ttotal: 2.45s\tremaining: 11.4s\n",
      "53:\tlearn: 0.6614731\ttotal: 2.49s\tremaining: 11.4s\n",
      "54:\tlearn: 0.6566625\ttotal: 2.53s\tremaining: 11.3s\n",
      "55:\tlearn: 0.6519267\ttotal: 2.57s\tremaining: 11.2s\n",
      "56:\tlearn: 0.6473934\ttotal: 2.61s\tremaining: 11.1s\n",
      "57:\tlearn: 0.6428088\ttotal: 2.65s\tremaining: 11.1s\n",
      "58:\tlearn: 0.6383107\ttotal: 2.69s\tremaining: 11s\n",
      "59:\tlearn: 0.6338557\ttotal: 2.73s\tremaining: 10.9s\n",
      "60:\tlearn: 0.6294432\ttotal: 2.77s\tremaining: 10.8s\n",
      "61:\tlearn: 0.6251538\ttotal: 2.81s\tremaining: 10.8s\n",
      "62:\tlearn: 0.6209061\ttotal: 2.85s\tremaining: 10.7s\n",
      "63:\tlearn: 0.6166973\ttotal: 2.9s\tremaining: 10.7s\n",
      "64:\tlearn: 0.6124744\ttotal: 2.94s\tremaining: 10.6s\n",
      "65:\tlearn: 0.6084011\ttotal: 2.98s\tremaining: 10.6s\n",
      "66:\tlearn: 0.6043748\ttotal: 3.02s\tremaining: 10.5s\n",
      "67:\tlearn: 0.6004164\ttotal: 3.06s\tremaining: 10.5s\n",
      "68:\tlearn: 0.5964346\ttotal: 3.1s\tremaining: 10.4s\n",
      "69:\tlearn: 0.5925897\ttotal: 3.14s\tremaining: 10.3s\n",
      "70:\tlearn: 0.5887539\ttotal: 3.18s\tremaining: 10.3s\n",
      "71:\tlearn: 0.5849065\ttotal: 3.22s\tremaining: 10.2s\n",
      "72:\tlearn: 0.5812203\ttotal: 3.27s\tremaining: 10.2s\n",
      "73:\tlearn: 0.5775623\ttotal: 3.32s\tremaining: 10.1s\n",
      "74:\tlearn: 0.5739710\ttotal: 3.37s\tremaining: 10.1s\n",
      "75:\tlearn: 0.5704396\ttotal: 3.42s\tremaining: 10.1s\n",
      "76:\tlearn: 0.5669613\ttotal: 3.48s\tremaining: 10.1s\n",
      "77:\tlearn: 0.5634917\ttotal: 3.53s\tremaining: 10s\n",
      "78:\tlearn: 0.5600494\ttotal: 3.57s\tremaining: 9.99s\n",
      "79:\tlearn: 0.5566991\ttotal: 3.61s\tremaining: 9.93s\n",
      "80:\tlearn: 0.5533509\ttotal: 3.65s\tremaining: 9.86s\n",
      "81:\tlearn: 0.5501212\ttotal: 3.69s\tremaining: 9.8s\n",
      "82:\tlearn: 0.5469437\ttotal: 3.73s\tremaining: 9.76s\n",
      "83:\tlearn: 0.5437419\ttotal: 3.77s\tremaining: 9.7s\n",
      "84:\tlearn: 0.5406023\ttotal: 3.82s\tremaining: 9.65s\n",
      "85:\tlearn: 0.5375275\ttotal: 3.86s\tremaining: 9.61s\n",
      "86:\tlearn: 0.5344338\ttotal: 3.92s\tremaining: 9.59s\n",
      "87:\tlearn: 0.5314716\ttotal: 3.96s\tremaining: 9.55s\n",
      "88:\tlearn: 0.5284817\ttotal: 4.01s\tremaining: 9.51s\n",
      "89:\tlearn: 0.5256808\ttotal: 4.07s\tremaining: 9.49s\n",
      "90:\tlearn: 0.5228283\ttotal: 4.1s\tremaining: 9.43s\n",
      "91:\tlearn: 0.5199231\ttotal: 4.15s\tremaining: 9.38s\n",
      "92:\tlearn: 0.5170817\ttotal: 4.19s\tremaining: 9.32s\n",
      "93:\tlearn: 0.5142260\ttotal: 4.23s\tremaining: 9.27s\n",
      "94:\tlearn: 0.5114369\ttotal: 4.28s\tremaining: 9.23s\n",
      "95:\tlearn: 0.5087047\ttotal: 4.32s\tremaining: 9.17s\n",
      "96:\tlearn: 0.5059577\ttotal: 4.36s\tremaining: 9.13s\n",
      "97:\tlearn: 0.5033037\ttotal: 4.41s\tremaining: 9.09s\n",
      "98:\tlearn: 0.5006721\ttotal: 4.45s\tremaining: 9.04s\n",
      "99:\tlearn: 0.4980673\ttotal: 4.49s\tremaining: 8.99s\n",
      "100:\tlearn: 0.4955313\ttotal: 4.53s\tremaining: 8.93s\n",
      "101:\tlearn: 0.4930256\ttotal: 4.58s\tremaining: 8.88s\n",
      "102:\tlearn: 0.4905201\ttotal: 4.63s\tremaining: 8.85s\n",
      "103:\tlearn: 0.4880400\ttotal: 4.66s\tremaining: 8.79s\n",
      "104:\tlearn: 0.4855667\ttotal: 4.71s\tremaining: 8.74s\n",
      "105:\tlearn: 0.4832014\ttotal: 4.75s\tremaining: 8.69s\n",
      "106:\tlearn: 0.4808030\ttotal: 4.8s\tremaining: 8.65s\n",
      "107:\tlearn: 0.4784145\ttotal: 4.86s\tremaining: 8.64s\n",
      "108:\tlearn: 0.4760757\ttotal: 4.91s\tremaining: 8.61s\n",
      "109:\tlearn: 0.4737618\ttotal: 4.96s\tremaining: 8.57s\n",
      "110:\tlearn: 0.4714714\ttotal: 5.02s\tremaining: 8.54s\n",
      "111:\tlearn: 0.4691993\ttotal: 5.07s\tremaining: 8.52s\n",
      "112:\tlearn: 0.4669222\ttotal: 5.13s\tremaining: 8.49s\n",
      "113:\tlearn: 0.4647520\ttotal: 5.19s\tremaining: 8.46s\n",
      "114:\tlearn: 0.4626278\ttotal: 5.24s\tremaining: 8.43s\n",
      "115:\tlearn: 0.4604984\ttotal: 5.3s\tremaining: 8.41s\n",
      "116:\tlearn: 0.4583525\ttotal: 5.36s\tremaining: 8.38s\n",
      "117:\tlearn: 0.4562576\ttotal: 5.41s\tremaining: 8.35s\n",
      "118:\tlearn: 0.4541834\ttotal: 5.46s\tremaining: 8.3s\n",
      "119:\tlearn: 0.4521538\ttotal: 5.51s\tremaining: 8.26s\n",
      "120:\tlearn: 0.4501448\ttotal: 5.56s\tremaining: 8.22s\n",
      "121:\tlearn: 0.4481274\ttotal: 5.6s\tremaining: 8.18s\n",
      "122:\tlearn: 0.4461407\ttotal: 5.65s\tremaining: 8.14s\n",
      "123:\tlearn: 0.4441707\ttotal: 5.71s\tremaining: 8.1s\n",
      "124:\tlearn: 0.4422465\ttotal: 5.75s\tremaining: 8.05s\n",
      "125:\tlearn: 0.4403529\ttotal: 5.79s\tremaining: 8s\n",
      "126:\tlearn: 0.4385001\ttotal: 5.83s\tremaining: 7.94s\n",
      "127:\tlearn: 0.4365917\ttotal: 5.87s\tremaining: 7.89s\n",
      "128:\tlearn: 0.4347661\ttotal: 5.92s\tremaining: 7.84s\n",
      "129:\tlearn: 0.4329717\ttotal: 5.96s\tremaining: 7.79s\n",
      "130:\tlearn: 0.4311658\ttotal: 6s\tremaining: 7.74s\n",
      "131:\tlearn: 0.4293173\ttotal: 6.04s\tremaining: 7.68s\n",
      "132:\tlearn: 0.4275409\ttotal: 6.09s\tremaining: 7.65s\n",
      "133:\tlearn: 0.4258008\ttotal: 6.13s\tremaining: 7.6s\n",
      "134:\tlearn: 0.4241219\ttotal: 6.17s\tremaining: 7.55s\n",
      "135:\tlearn: 0.4224298\ttotal: 6.21s\tremaining: 7.49s\n",
      "136:\tlearn: 0.4207149\ttotal: 6.25s\tremaining: 7.44s\n",
      "137:\tlearn: 0.4190916\ttotal: 6.3s\tremaining: 7.39s\n",
      "138:\tlearn: 0.4174173\ttotal: 6.35s\tremaining: 7.35s\n",
      "139:\tlearn: 0.4157466\ttotal: 6.38s\tremaining: 7.3s\n",
      "140:\tlearn: 0.4141696\ttotal: 6.42s\tremaining: 7.24s\n",
      "141:\tlearn: 0.4125808\ttotal: 6.46s\tremaining: 7.19s\n",
      "142:\tlearn: 0.4110156\ttotal: 6.5s\tremaining: 7.14s\n",
      "143:\tlearn: 0.4094359\ttotal: 6.55s\tremaining: 7.09s\n",
      "144:\tlearn: 0.4079437\ttotal: 6.59s\tremaining: 7.04s\n",
      "145:\tlearn: 0.4065395\ttotal: 6.63s\tremaining: 6.99s\n",
      "146:\tlearn: 0.4050671\ttotal: 6.67s\tremaining: 6.95s\n",
      "147:\tlearn: 0.4035279\ttotal: 6.71s\tremaining: 6.89s\n",
      "148:\tlearn: 0.4020653\ttotal: 6.76s\tremaining: 6.85s\n",
      "149:\tlearn: 0.4005630\ttotal: 6.81s\tremaining: 6.81s\n",
      "150:\tlearn: 0.3990981\ttotal: 6.86s\tremaining: 6.77s\n",
      "151:\tlearn: 0.3976100\ttotal: 6.91s\tremaining: 6.73s\n",
      "152:\tlearn: 0.3961816\ttotal: 6.97s\tremaining: 6.69s\n",
      "153:\tlearn: 0.3947993\ttotal: 7.02s\tremaining: 6.65s\n",
      "154:\tlearn: 0.3934223\ttotal: 7.07s\tremaining: 6.61s\n",
      "155:\tlearn: 0.3919939\ttotal: 7.12s\tremaining: 6.57s\n",
      "156:\tlearn: 0.3906923\ttotal: 7.18s\tremaining: 6.54s\n",
      "157:\tlearn: 0.3893582\ttotal: 7.22s\tremaining: 6.49s\n",
      "158:\tlearn: 0.3880755\ttotal: 7.26s\tremaining: 6.44s\n",
      "159:\tlearn: 0.3867679\ttotal: 7.3s\tremaining: 6.39s\n",
      "160:\tlearn: 0.3854645\ttotal: 7.35s\tremaining: 6.35s\n",
      "161:\tlearn: 0.3841782\ttotal: 7.39s\tremaining: 6.3s\n",
      "162:\tlearn: 0.3829165\ttotal: 7.43s\tremaining: 6.25s\n",
      "163:\tlearn: 0.3816675\ttotal: 7.47s\tremaining: 6.2s\n",
      "164:\tlearn: 0.3804595\ttotal: 7.51s\tremaining: 6.14s\n",
      "165:\tlearn: 0.3792027\ttotal: 7.55s\tremaining: 6.1s\n",
      "166:\tlearn: 0.3779663\ttotal: 7.59s\tremaining: 6.05s\n",
      "167:\tlearn: 0.3768121\ttotal: 7.63s\tremaining: 6s\n",
      "168:\tlearn: 0.3756529\ttotal: 7.68s\tremaining: 5.95s\n",
      "169:\tlearn: 0.3744832\ttotal: 7.72s\tremaining: 5.91s\n",
      "170:\tlearn: 0.3733056\ttotal: 7.76s\tremaining: 5.86s\n",
      "171:\tlearn: 0.3721152\ttotal: 7.8s\tremaining: 5.81s\n",
      "172:\tlearn: 0.3710246\ttotal: 7.85s\tremaining: 5.76s\n",
      "173:\tlearn: 0.3698320\ttotal: 7.89s\tremaining: 5.71s\n",
      "174:\tlearn: 0.3686769\ttotal: 7.93s\tremaining: 5.66s\n",
      "175:\tlearn: 0.3675735\ttotal: 7.97s\tremaining: 5.62s\n",
      "176:\tlearn: 0.3664310\ttotal: 8.01s\tremaining: 5.57s\n",
      "177:\tlearn: 0.3653826\ttotal: 8.05s\tremaining: 5.52s\n",
      "178:\tlearn: 0.3642757\ttotal: 8.11s\tremaining: 5.48s\n",
      "179:\tlearn: 0.3631485\ttotal: 8.16s\tremaining: 5.44s\n",
      "180:\tlearn: 0.3621355\ttotal: 8.22s\tremaining: 5.41s\n",
      "181:\tlearn: 0.3610472\ttotal: 8.27s\tremaining: 5.36s\n",
      "182:\tlearn: 0.3599982\ttotal: 8.31s\tremaining: 5.32s\n",
      "183:\tlearn: 0.3589512\ttotal: 8.37s\tremaining: 5.28s\n",
      "184:\tlearn: 0.3579374\ttotal: 8.41s\tremaining: 5.23s\n",
      "185:\tlearn: 0.3569220\ttotal: 8.46s\tremaining: 5.19s\n",
      "186:\tlearn: 0.3559315\ttotal: 8.51s\tremaining: 5.14s\n",
      "187:\tlearn: 0.3549444\ttotal: 8.56s\tremaining: 5.1s\n",
      "188:\tlearn: 0.3539421\ttotal: 8.6s\tremaining: 5.05s\n",
      "189:\tlearn: 0.3530017\ttotal: 8.65s\tremaining: 5.01s\n",
      "190:\tlearn: 0.3520459\ttotal: 8.69s\tremaining: 4.96s\n",
      "191:\tlearn: 0.3511085\ttotal: 8.75s\tremaining: 4.92s\n",
      "192:\tlearn: 0.3501833\ttotal: 8.8s\tremaining: 4.88s\n",
      "193:\tlearn: 0.3492621\ttotal: 8.85s\tremaining: 4.83s\n",
      "194:\tlearn: 0.3483373\ttotal: 8.89s\tremaining: 4.79s\n",
      "195:\tlearn: 0.3474128\ttotal: 8.97s\tremaining: 4.76s\n",
      "196:\tlearn: 0.3465425\ttotal: 9.04s\tremaining: 4.73s\n",
      "197:\tlearn: 0.3455918\ttotal: 9.11s\tremaining: 4.69s\n",
      "198:\tlearn: 0.3447589\ttotal: 9.21s\tremaining: 4.67s\n",
      "199:\tlearn: 0.3438409\ttotal: 9.28s\tremaining: 4.64s\n",
      "200:\tlearn: 0.3429359\ttotal: 9.35s\tremaining: 4.6s\n",
      "201:\tlearn: 0.3420622\ttotal: 9.42s\tremaining: 4.57s\n",
      "202:\tlearn: 0.3412452\ttotal: 9.48s\tremaining: 4.53s\n",
      "203:\tlearn: 0.3403909\ttotal: 9.55s\tremaining: 4.49s\n",
      "204:\tlearn: 0.3395358\ttotal: 9.62s\tremaining: 4.46s\n",
      "205:\tlearn: 0.3387175\ttotal: 9.69s\tremaining: 4.42s\n",
      "206:\tlearn: 0.3379240\ttotal: 9.79s\tremaining: 4.4s\n",
      "207:\tlearn: 0.3371268\ttotal: 9.86s\tremaining: 4.36s\n",
      "208:\tlearn: 0.3363121\ttotal: 9.94s\tremaining: 4.33s\n",
      "209:\tlearn: 0.3355425\ttotal: 10s\tremaining: 4.31s\n",
      "210:\tlearn: 0.3347830\ttotal: 10.1s\tremaining: 4.28s\n",
      "211:\tlearn: 0.3340009\ttotal: 10.2s\tremaining: 4.24s\n",
      "212:\tlearn: 0.3332371\ttotal: 10.3s\tremaining: 4.21s\n",
      "213:\tlearn: 0.3325100\ttotal: 10.4s\tremaining: 4.17s\n",
      "214:\tlearn: 0.3317410\ttotal: 10.4s\tremaining: 4.13s\n",
      "215:\tlearn: 0.3309547\ttotal: 10.5s\tremaining: 4.08s\n",
      "216:\tlearn: 0.3301618\ttotal: 10.6s\tremaining: 4.04s\n",
      "217:\tlearn: 0.3294268\ttotal: 10.6s\tremaining: 4s\n",
      "218:\tlearn: 0.3286992\ttotal: 10.7s\tremaining: 3.95s\n",
      "219:\tlearn: 0.3279652\ttotal: 10.7s\tremaining: 3.91s\n",
      "220:\tlearn: 0.3272566\ttotal: 10.8s\tremaining: 3.86s\n",
      "221:\tlearn: 0.3265130\ttotal: 10.8s\tremaining: 3.81s\n",
      "222:\tlearn: 0.3258252\ttotal: 10.9s\tremaining: 3.76s\n",
      "223:\tlearn: 0.3251831\ttotal: 10.9s\tremaining: 3.71s\n",
      "224:\tlearn: 0.3244888\ttotal: 11s\tremaining: 3.66s\n",
      "225:\tlearn: 0.3238550\ttotal: 11s\tremaining: 3.61s\n",
      "226:\tlearn: 0.3231767\ttotal: 11.1s\tremaining: 3.56s\n",
      "227:\tlearn: 0.3225054\ttotal: 11.1s\tremaining: 3.51s\n",
      "228:\tlearn: 0.3218395\ttotal: 11.2s\tremaining: 3.46s\n",
      "229:\tlearn: 0.3211905\ttotal: 11.2s\tremaining: 3.41s\n",
      "230:\tlearn: 0.3205348\ttotal: 11.3s\tremaining: 3.37s\n",
      "231:\tlearn: 0.3198855\ttotal: 11.3s\tremaining: 3.33s\n",
      "232:\tlearn: 0.3192623\ttotal: 11.4s\tremaining: 3.28s\n",
      "233:\tlearn: 0.3186486\ttotal: 11.5s\tremaining: 3.23s\n",
      "234:\tlearn: 0.3180387\ttotal: 11.5s\tremaining: 3.18s\n",
      "235:\tlearn: 0.3173881\ttotal: 11.5s\tremaining: 3.13s\n",
      "236:\tlearn: 0.3167296\ttotal: 11.6s\tremaining: 3.08s\n",
      "237:\tlearn: 0.3161560\ttotal: 11.6s\tremaining: 3.03s\n",
      "238:\tlearn: 0.3155603\ttotal: 11.7s\tremaining: 2.98s\n",
      "239:\tlearn: 0.3149323\ttotal: 11.7s\tremaining: 2.93s\n",
      "240:\tlearn: 0.3143282\ttotal: 11.8s\tremaining: 2.88s\n",
      "241:\tlearn: 0.3137778\ttotal: 11.8s\tremaining: 2.83s\n",
      "242:\tlearn: 0.3131930\ttotal: 11.9s\tremaining: 2.78s\n",
      "243:\tlearn: 0.3126091\ttotal: 11.9s\tremaining: 2.73s\n",
      "244:\tlearn: 0.3120492\ttotal: 11.9s\tremaining: 2.68s\n",
      "245:\tlearn: 0.3114688\ttotal: 12s\tremaining: 2.63s\n",
      "246:\tlearn: 0.3108955\ttotal: 12s\tremaining: 2.58s\n",
      "247:\tlearn: 0.3103091\ttotal: 12.1s\tremaining: 2.53s\n",
      "248:\tlearn: 0.3097915\ttotal: 12.1s\tremaining: 2.48s\n",
      "249:\tlearn: 0.3092785\ttotal: 12.2s\tremaining: 2.43s\n",
      "250:\tlearn: 0.3087447\ttotal: 12.2s\tremaining: 2.38s\n",
      "251:\tlearn: 0.3082221\ttotal: 12.3s\tremaining: 2.34s\n",
      "252:\tlearn: 0.3076855\ttotal: 12.3s\tremaining: 2.29s\n",
      "253:\tlearn: 0.3071683\ttotal: 12.4s\tremaining: 2.24s\n",
      "254:\tlearn: 0.3066678\ttotal: 12.4s\tremaining: 2.19s\n",
      "255:\tlearn: 0.3061090\ttotal: 12.5s\tremaining: 2.15s\n",
      "256:\tlearn: 0.3055907\ttotal: 12.6s\tremaining: 2.1s\n",
      "257:\tlearn: 0.3051085\ttotal: 12.6s\tremaining: 2.05s\n",
      "258:\tlearn: 0.3045659\ttotal: 12.7s\tremaining: 2s\n",
      "259:\tlearn: 0.3040385\ttotal: 12.7s\tremaining: 1.95s\n",
      "260:\tlearn: 0.3035472\ttotal: 12.7s\tremaining: 1.9s\n",
      "261:\tlearn: 0.3030735\ttotal: 12.8s\tremaining: 1.85s\n",
      "262:\tlearn: 0.3025255\ttotal: 12.8s\tremaining: 1.8s\n",
      "263:\tlearn: 0.3020700\ttotal: 12.9s\tremaining: 1.76s\n",
      "264:\tlearn: 0.3016009\ttotal: 12.9s\tremaining: 1.71s\n",
      "265:\tlearn: 0.3011293\ttotal: 13s\tremaining: 1.66s\n",
      "266:\tlearn: 0.3006841\ttotal: 13s\tremaining: 1.61s\n",
      "267:\tlearn: 0.3002348\ttotal: 13.1s\tremaining: 1.56s\n",
      "268:\tlearn: 0.2997420\ttotal: 13.1s\tremaining: 1.51s\n",
      "269:\tlearn: 0.2992977\ttotal: 13.2s\tremaining: 1.47s\n",
      "270:\tlearn: 0.2988582\ttotal: 13.2s\tremaining: 1.42s\n",
      "271:\tlearn: 0.2984082\ttotal: 13.3s\tremaining: 1.36s\n",
      "272:\tlearn: 0.2979974\ttotal: 13.3s\tremaining: 1.31s\n",
      "273:\tlearn: 0.2975532\ttotal: 13.4s\tremaining: 1.27s\n",
      "274:\tlearn: 0.2971093\ttotal: 13.4s\tremaining: 1.22s\n",
      "275:\tlearn: 0.2966959\ttotal: 13.5s\tremaining: 1.17s\n",
      "276:\tlearn: 0.2962896\ttotal: 13.5s\tremaining: 1.12s\n",
      "277:\tlearn: 0.2958518\ttotal: 13.6s\tremaining: 1.07s\n",
      "278:\tlearn: 0.2954543\ttotal: 13.6s\tremaining: 1.03s\n",
      "279:\tlearn: 0.2950697\ttotal: 13.7s\tremaining: 977ms\n",
      "280:\tlearn: 0.2946784\ttotal: 13.7s\tremaining: 928ms\n",
      "281:\tlearn: 0.2942691\ttotal: 13.8s\tremaining: 879ms\n",
      "282:\tlearn: 0.2938781\ttotal: 13.8s\tremaining: 830ms\n",
      "283:\tlearn: 0.2934903\ttotal: 13.9s\tremaining: 780ms\n",
      "284:\tlearn: 0.2930889\ttotal: 13.9s\tremaining: 731ms\n",
      "285:\tlearn: 0.2926971\ttotal: 13.9s\tremaining: 682ms\n",
      "286:\tlearn: 0.2923303\ttotal: 14s\tremaining: 634ms\n",
      "287:\tlearn: 0.2919786\ttotal: 14s\tremaining: 585ms\n",
      "288:\tlearn: 0.2915961\ttotal: 14.1s\tremaining: 536ms\n",
      "289:\tlearn: 0.2912221\ttotal: 14.1s\tremaining: 487ms\n",
      "290:\tlearn: 0.2908292\ttotal: 14.2s\tremaining: 438ms\n",
      "291:\tlearn: 0.2904797\ttotal: 14.2s\tremaining: 389ms\n",
      "292:\tlearn: 0.2901472\ttotal: 14.3s\tremaining: 341ms\n",
      "293:\tlearn: 0.2897984\ttotal: 14.3s\tremaining: 292ms\n",
      "294:\tlearn: 0.2894147\ttotal: 14.3s\tremaining: 243ms\n",
      "295:\tlearn: 0.2890869\ttotal: 14.4s\tremaining: 194ms\n",
      "296:\tlearn: 0.2887034\ttotal: 14.4s\tremaining: 146ms\n",
      "297:\tlearn: 0.2883613\ttotal: 14.5s\tremaining: 97.1ms\n",
      "298:\tlearn: 0.2879741\ttotal: 14.5s\tremaining: 48.5ms\n",
      "299:\tlearn: 0.2875934\ttotal: 14.5s\tremaining: 0us\n"
     ]
    }
   ],
   "source": [
    "model = CatBoostClassifier(learning_rate=0.01,\n",
    "                          max_depth=6,\n",
    "                         n_estimators=300)\n",
    "# Fit model\n",
    "model.fit(xtrain, ytrain)\n",
    "# Get predictions\n",
    "y_pred = model.predict(xtest)"
   ]
  },
  {
   "cell_type": "code",
   "execution_count": 43,
   "metadata": {},
   "outputs": [
    {
     "name": "stdout",
     "output_type": "stream",
     "text": [
      "              precision    recall  f1-score   support\n",
      "\n",
      "           0       0.99      0.79      0.88     11856\n",
      "           1       0.22      0.59      0.32      1180\n",
      "           2       0.12      1.00      0.22        60\n",
      "\n",
      "    accuracy                           0.77     13096\n",
      "   macro avg       0.44      0.79      0.47     13096\n",
      "weighted avg       0.92      0.77      0.82     13096\n",
      "\n"
     ]
    }
   ],
   "source": [
    "print(classification_report(ytest, y_pred))"
   ]
  },
  {
   "cell_type": "code",
   "execution_count": 44,
   "metadata": {},
   "outputs": [
    {
     "data": {
      "image/png": "[encoded data removed]",
      "text/plain": [
       "<Figure size 504x504 with 1 Axes>"
      ]
     },
     "metadata": {
      "needs_background": "light"
     },
     "output_type": "display_data"
    }
   ],
   "source": [
    "cnf_matrix = confusion_matrix(ytest, y_pred)\n",
    "plt.figure(figsize=(7,7))\n",
    "plot_confusion_matrix(cnf_matrix, classes=[0,1,2], title=\"Confusion matrix\")\n",
    "plt.show()"
   ]
  },
  {
   "cell_type": "markdown",
   "metadata": {},
   "source": [
    "#### Приложение"
   ]
  },
  {
   "cell_type": "code",
   "execution_count": 12,
   "metadata": {},
   "outputs": [],
   "source": [
    "def plot_confusion_matrix(cm, classes, title='Confusion matrix', cmap=plt.cm.Blues):\n",
    "\n",
    "    cm = cm.astype('float') / cm.sum(axis=1)[:, np.newaxis]\n",
    "\n",
    "    plt.imshow(cm, interpolation='nearest', cmap=cmap)\n",
    "    plt.title(title, fontsize=25)\n",
    "    #plt.colorbar()\n",
    "    tick_marks = np.arange(len(classes))\n",
    "    plt.xticks(tick_marks, classes, rotation=90, fontsize=15)\n",
    "    plt.yticks(tick_marks, classes, fontsize=15)\n",
    "\n",
    "    fmt = '.2f'\n",
    "    thresh = cm.max() / 2.\n",
    "    for i, j in itertools.product(range(cm.shape[0]), range(cm.shape[1])):\n",
    "        plt.text(j, i, format(cm[i, j], fmt),\n",
    "                 horizontalalignment=\"center\",\n",
    "                 color=\"white\" if cm[i, j] > thresh else \"black\", fontsize = 14)\n",
    "\n",
    "    plt.ylabel('True label', fontsize=20)\n",
    "    plt.xlabel('Predicted label', fontsize=20)"
   ]
  },
  {
   "cell_type": "code",
   "execution_count": 21,
   "metadata": {},
   "outputs": [],
   "source": [
    "def plot_confusion_matrix1(cm,\n",
    "                          target_names,\n",
    "                          title='Confusion matrix',\n",
    "                          cmap=None,\n",
    "                          normalize=True):\n",
    "    import matplotlib.pyplot as plt\n",
    "    import numpy as np\n",
    "    import itertools\n",
    "\n",
    "    accuracy = np.trace(cm) / float(np.sum(cm))\n",
    "    misclass = 1 - accuracy\n",
    "\n",
    "    if cmap is None:\n",
    "        cmap = plt.get_cmap('Blues')\n",
    "\n",
    "    plt.figure(figsize=(8, 6))\n",
    "    plt.imshow(cm, interpolation='nearest', cmap=cmap)\n",
    "    plt.title(title)\n",
    "    plt.colorbar()\n",
    "\n",
    "    if target_names is not None:\n",
    "        tick_marks = np.arange(len(target_names))\n",
    "        plt.xticks(tick_marks, target_names, rotation=45)\n",
    "        plt.yticks(tick_marks, target_names)\n",
    "\n",
    "    if normalize:\n",
    "        cm = cm.astype('float') / cm.sum(axis=1)[:, np.newaxis]\n",
    "\n",
    "\n",
    "    thresh = cm.max() / 1.5 if normalize else cm.max() / 2\n",
    "    for i, j in itertools.product(range(cm.shape[0]), range(cm.shape[1])):\n",
    "        if normalize:\n",
    "            plt.text(j, i, \"{:0.4f}\".format(cm[i, j]),\n",
    "                     horizontalalignment=\"center\",\n",
    "                     color=\"white\" if cm[i, j] > thresh else \"black\")\n",
    "        else:\n",
    "            plt.text(j, i, \"{:,}\".format(cm[i, j]),\n",
    "                     horizontalalignment=\"center\",\n",
    "                     color=\"white\" if cm[i, j] > thresh else \"black\")\n",
    "\n",
    "\n",
    "    plt.tight_layout()\n",
    "    plt.ylabel('True label')\n",
    "    plt.xlabel('Predicted label\\naccuracy={:0.4f}; misclass={:0.4f}'.format(accuracy, misclass))\n",
    "    plt.show()"
   ]
  },
  {
   "cell_type": "code",
   "execution_count": null,
   "metadata": {},
   "outputs": [],
   "source": []
  }
 ],
 "metadata": {
  "kernelspec": {
   "display_name": "Python 3",
   "language": "python",
   "name": "python3"
  },
  "language_info": {
   "codemirror_mode": {
    "name": "ipython",
    "version": 3
   },
   "file_extension": ".py",
   "mimetype": "text/x-python",
   "name": "python",
   "nbconvert_exporter": "python",
   "pygments_lexer": "ipython3",
   "version": "3.7.3"
  }
 },
 "nbformat": 4,
 "nbformat_minor": 4
}
